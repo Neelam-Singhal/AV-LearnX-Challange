{
 "cells": [
  {
   "cell_type": "markdown",
   "source": [
    "# LearnX Sales Forecasting\r\n",
    "\r\n",
    "LearnX is an online learning platform aimed at professionals and students. LearnX serves as a market place that allows instructors to build online courses on topics of their expertise which is later published after due diligence by the LearnX team. The platform covers a wide variety of topics including Development, Business, Finance & Accounting & Software Marketing and so on\r\n",
    "\r\n",
    "\r\n",
    "Effective forecasting for course sales gives essential insight into upcoming cash flow meaning business can more accurately plan the budget to pay instructors and other operational costs and invest in the expansion of the business.\r\n",
    "\r\n",
    "\r\n",
    "Sales data for more than 2 years from 600 courses of LearnX's top domains is available along with information on\r\n",
    "\r\n",
    "\r\n",
    "<li>Competition in the market for each course</li>\r\n",
    "<li>Course Type (Course/Program/Degree)</li>\r\n",
    "<li>Holiday Information for each day</li>\r\n",
    "<li>User Traffic on Course Page for each day</li>\r\n",
    "\r\n",
    "Your task is to predict the course sales for each course in the test set for the next 60 days\r\n",
    "\r\n",
    "s"
   ],
   "metadata": {}
  },
  {
   "cell_type": "markdown",
   "source": [
    "## Data Dictionary\r\n",
    "<i>Train (Historical Sales Data)</i>\r\n",
    "\r\n",
    "    Variable\t            Definition\r\n",
    "    ID\t                    Unique Identifier for a row\r\n",
    "    Day_No\t                Day Number\r\n",
    "    Course_ID\t            Unique ID for a course\r\n",
    "    Course_Domain\t        Course Domain (Development, Finance etc.)\r\n",
    "    Course_Type\t            Course/Program/Degree\r\n",
    "    Short_Promotion\t        Whether Short Term Promotion is Live\r\n",
    "    Public_Holiday\t        Regional/Public Holiday\r\n",
    "    Long_Promotion\t        Whether Long Term Promotion is Live for the course\r\n",
    "    User_Traffic\t        Number of customers landing on the course page\r\n",
    "    Competition_Metric\t    A metric defining the strength of competition \r\n",
    "    Sales\t                (Target) Total Course Sales\r\n"
   ],
   "metadata": {}
  },
  {
   "cell_type": "markdown",
   "source": [
    "## Test (Next 60 Days)\r\n",
    "<i>This file contains the store and day number for which the participant needs to submit predictions/forecasts</i>\r\n",
    "\r\n",
    "    Variable\t            Definition\r\n",
    "    ID\t                    Unique Identifier for a row\r\n",
    "    Day_No\t                Day Number\r\n",
    "    Course_ID\t            Unique ID for a course\r\n",
    "    Course_Domain\t        Course Domain (Development, Finance etc.)\r\n",
    "    Course_Type\t            Course/Program/Degree\r\n",
    "    Short_Promotion\t        Whether Short Term Promotion is Live\r\n",
    "    Public_Holiday\t        Regional/Public Holiday\r\n",
    "    Long_Promotion\t        Whether Long Term Promotion is Live for the course\r\n",
    "    Competition_Metric\t    A metric defining the strength of competition\r\n"
   ],
   "metadata": {}
  },
  {
   "cell_type": "markdown",
   "source": [
    "## Evaluation\r\n",
    "The evaluation metric for this competition is 1000*RMSLE where RMSLE is Root of Mean Squared Logarithmic Error across all entries in the test set.\r\n",
    "\r\n"
   ],
   "metadata": {}
  },
  {
   "cell_type": "markdown",
   "source": [],
   "metadata": {}
  },
  {
   "cell_type": "markdown",
   "source": [
    "## Code File: A single Jupyter Notebook should ideally have the following sections\r\n",
    "- Exploratory Data Analysis (EDA)\r\n",
    "- Data Preprocessing/Cleaning/Feature Selection\r\n",
    "- Model Building & Cross Validation\r\n",
    "- Creation of Submission File\r\n",
    "\r\n",
    "## Approach PPT\r\n",
    "- Insights from EDA and most important data visualizations\r\n",
    "- Assumptions made if any\r\n",
    "- Data Preprocessing & missing value imputation steps for each variable\r\n",
    "- Final Model Description along with parameters\r\n",
    "- Internal Cross Validation/Other Validation Scores\r\n",
    "\r\n",
    "The participant must clear a stipulated threshold of 180 at the private leaderboard that means your score must be less than 180 in order to pass this assessment"
   ],
   "metadata": {}
  },
  {
   "cell_type": "markdown",
   "source": [],
   "metadata": {}
  },
  {
   "cell_type": "markdown",
   "source": [
    "<b>--------------------------------------------------------------------------------------------------------------------------------------------------------------------------------------------------------------------------------------------------------------------------------------------------------------------------------------------------------</b>\r\n",
    "<br>"
   ],
   "metadata": {}
  },
  {
   "cell_type": "markdown",
   "source": [
    "# <b>STEPS </b>\r\n",
    "\r\n",
    "## Data Preperation and Cleaning\r\n",
    "\r\n",
    "1. Load Data\r\n",
    "2. Look at data and columns (columns, datatype, info)\r\n",
    "3. Identify if any category columns which are currently set at numeric. Change their type to category.\r\n",
    "4. Look closely at data and try to ask questions regarding it - Hypothesis. \r\n",
    "5. Fix any missing or incorrect values<br>\r\n",
    "        - As only 0.003% of data has missing value, we can remove these rows. <br>\r\n",
    "        - We will try to create 2 models, one with data deleted and one with competition_metric set as 0.\r\n"
   ],
   "metadata": {}
  },
  {
   "cell_type": "code",
   "execution_count": 2,
   "source": [
    "import pandas as pd\r\n",
    "import numpy as np\r\n",
    "import matplotlib.pyplot as plt\r\n",
    "import seaborn as sns\r\n",
    "\r\n",
    "# To plot QQ plot\r\n",
    "import statsmodels.api as sm\r\n",
    "\r\n",
    "import warnings\r\n",
    "warnings.filterwarnings('ignore')"
   ],
   "outputs": [],
   "metadata": {}
  },
  {
   "cell_type": "code",
   "execution_count": 3,
   "source": [
    "train_data = pd.read_csv('train.csv')\r\n",
    "test_data = pd.read_csv('test.csv')"
   ],
   "outputs": [],
   "metadata": {}
  },
  {
   "cell_type": "markdown",
   "source": [
    "# EDA"
   ],
   "metadata": {}
  },
  {
   "cell_type": "code",
   "execution_count": 4,
   "source": [
    "train_data.shape, test_data.shape"
   ],
   "outputs": [
    {
     "output_type": "execute_result",
     "data": {
      "text/plain": [
       "((512087, 11), (36000, 9))"
      ]
     },
     "metadata": {},
     "execution_count": 4
    }
   ],
   "metadata": {}
  },
  {
   "cell_type": "code",
   "execution_count": 5,
   "source": [
    "train_data.head()"
   ],
   "outputs": [
    {
     "output_type": "execute_result",
     "data": {
      "text/plain": [
       "   ID  Day_No  Course_ID Course_Domain Course_Type  Short_Promotion  \\\n",
       "0   1       1          1   Development      Course                0   \n",
       "1   2       2          1   Development      Course                0   \n",
       "2   3       3          1   Development      Course                0   \n",
       "3   4       4          1   Development      Course                0   \n",
       "4   5       5          1   Development      Course                0   \n",
       "\n",
       "   Public_Holiday  Long_Promotion  User_Traffic  Competition_Metric  Sales  \n",
       "0               1               1         11004               0.007     81  \n",
       "1               0               1         13650               0.007     79  \n",
       "2               0               1         11655               0.007     75  \n",
       "3               0               1         12054               0.007     80  \n",
       "4               0               1          6804               0.007     41  "
      ],
      "text/html": [
       "<div>\n",
       "<style scoped>\n",
       "    .dataframe tbody tr th:only-of-type {\n",
       "        vertical-align: middle;\n",
       "    }\n",
       "\n",
       "    .dataframe tbody tr th {\n",
       "        vertical-align: top;\n",
       "    }\n",
       "\n",
       "    .dataframe thead th {\n",
       "        text-align: right;\n",
       "    }\n",
       "</style>\n",
       "<table border=\"1\" class=\"dataframe\">\n",
       "  <thead>\n",
       "    <tr style=\"text-align: right;\">\n",
       "      <th></th>\n",
       "      <th>ID</th>\n",
       "      <th>Day_No</th>\n",
       "      <th>Course_ID</th>\n",
       "      <th>Course_Domain</th>\n",
       "      <th>Course_Type</th>\n",
       "      <th>Short_Promotion</th>\n",
       "      <th>Public_Holiday</th>\n",
       "      <th>Long_Promotion</th>\n",
       "      <th>User_Traffic</th>\n",
       "      <th>Competition_Metric</th>\n",
       "      <th>Sales</th>\n",
       "    </tr>\n",
       "  </thead>\n",
       "  <tbody>\n",
       "    <tr>\n",
       "      <th>0</th>\n",
       "      <td>1</td>\n",
       "      <td>1</td>\n",
       "      <td>1</td>\n",
       "      <td>Development</td>\n",
       "      <td>Course</td>\n",
       "      <td>0</td>\n",
       "      <td>1</td>\n",
       "      <td>1</td>\n",
       "      <td>11004</td>\n",
       "      <td>0.007</td>\n",
       "      <td>81</td>\n",
       "    </tr>\n",
       "    <tr>\n",
       "      <th>1</th>\n",
       "      <td>2</td>\n",
       "      <td>2</td>\n",
       "      <td>1</td>\n",
       "      <td>Development</td>\n",
       "      <td>Course</td>\n",
       "      <td>0</td>\n",
       "      <td>0</td>\n",
       "      <td>1</td>\n",
       "      <td>13650</td>\n",
       "      <td>0.007</td>\n",
       "      <td>79</td>\n",
       "    </tr>\n",
       "    <tr>\n",
       "      <th>2</th>\n",
       "      <td>3</td>\n",
       "      <td>3</td>\n",
       "      <td>1</td>\n",
       "      <td>Development</td>\n",
       "      <td>Course</td>\n",
       "      <td>0</td>\n",
       "      <td>0</td>\n",
       "      <td>1</td>\n",
       "      <td>11655</td>\n",
       "      <td>0.007</td>\n",
       "      <td>75</td>\n",
       "    </tr>\n",
       "    <tr>\n",
       "      <th>3</th>\n",
       "      <td>4</td>\n",
       "      <td>4</td>\n",
       "      <td>1</td>\n",
       "      <td>Development</td>\n",
       "      <td>Course</td>\n",
       "      <td>0</td>\n",
       "      <td>0</td>\n",
       "      <td>1</td>\n",
       "      <td>12054</td>\n",
       "      <td>0.007</td>\n",
       "      <td>80</td>\n",
       "    </tr>\n",
       "    <tr>\n",
       "      <th>4</th>\n",
       "      <td>5</td>\n",
       "      <td>5</td>\n",
       "      <td>1</td>\n",
       "      <td>Development</td>\n",
       "      <td>Course</td>\n",
       "      <td>0</td>\n",
       "      <td>0</td>\n",
       "      <td>1</td>\n",
       "      <td>6804</td>\n",
       "      <td>0.007</td>\n",
       "      <td>41</td>\n",
       "    </tr>\n",
       "  </tbody>\n",
       "</table>\n",
       "</div>"
      ]
     },
     "metadata": {},
     "execution_count": 5
    }
   ],
   "metadata": {}
  },
  {
   "cell_type": "code",
   "execution_count": 6,
   "source": [
    "train_data.isnull().sum()"
   ],
   "outputs": [
    {
     "output_type": "execute_result",
     "data": {
      "text/plain": [
       "ID                       0\n",
       "Day_No                   0\n",
       "Course_ID                0\n",
       "Course_Domain            0\n",
       "Course_Type              0\n",
       "Short_Promotion          0\n",
       "Public_Holiday           0\n",
       "Long_Promotion           0\n",
       "User_Traffic             0\n",
       "Competition_Metric    1764\n",
       "Sales                    0\n",
       "dtype: int64"
      ]
     },
     "metadata": {},
     "execution_count": 6
    }
   ],
   "metadata": {}
  },
  {
   "cell_type": "code",
   "execution_count": 7,
   "source": [
    "# Find percent of data missing\r\n",
    "(train_data.isnull().sum() / len(train_data))*100"
   ],
   "outputs": [
    {
     "output_type": "execute_result",
     "data": {
      "text/plain": [
       "ID                    0.000000\n",
       "Day_No                0.000000\n",
       "Course_ID             0.000000\n",
       "Course_Domain         0.000000\n",
       "Course_Type           0.000000\n",
       "Short_Promotion       0.000000\n",
       "Public_Holiday        0.000000\n",
       "Long_Promotion        0.000000\n",
       "User_Traffic          0.000000\n",
       "Competition_Metric    0.344473\n",
       "Sales                 0.000000\n",
       "dtype: float64"
      ]
     },
     "metadata": {},
     "execution_count": 7
    }
   ],
   "metadata": {}
  },
  {
   "cell_type": "markdown",
   "source": [
    "As only 0.34% of data is null in Competition_Metric, we should be able to drop the columns with null value\r\n",
    "\r\n",
    "Notes: I tried dropping the data but it created issue with the testing data. As test data also has lots of missing Competition_Metric, we are assuming that there is no competition where Competition_Metric is null, thus filling in the value 0"
   ],
   "metadata": {}
  },
  {
   "cell_type": "code",
   "execution_count": 4,
   "source": [
    "train_data[\"Competition_Metric\"].replace(to_replace =np.nan, value =0, inplace=True)\r\n",
    "test_data[\"Competition_Metric\"].replace(to_replace =np.nan, value =0, inplace=True)\r\n"
   ],
   "outputs": [],
   "metadata": {}
  },
  {
   "cell_type": "code",
   "execution_count": 7,
   "source": [
    "#train_data.drop(train_data[train_data.Competition_Metric.isnull()].index, axis=0, inplace=True)"
   ],
   "outputs": [],
   "metadata": {}
  },
  {
   "cell_type": "code",
   "execution_count": 119,
   "source": [
    "train_data.isnull().sum()"
   ],
   "outputs": [
    {
     "output_type": "execute_result",
     "data": {
      "text/plain": [
       "ID                    0\n",
       "Day_No                0\n",
       "Course_ID             0\n",
       "Course_Domain         0\n",
       "Course_Type           0\n",
       "Short_Promotion       0\n",
       "Public_Holiday        0\n",
       "Long_Promotion        0\n",
       "User_Traffic          0\n",
       "Competition_Metric    0\n",
       "Sales                 0\n",
       "dtype: int64"
      ]
     },
     "metadata": {},
     "execution_count": 119
    }
   ],
   "metadata": {}
  },
  {
   "cell_type": "code",
   "execution_count": 120,
   "source": [
    "test_data.isnull().sum()"
   ],
   "outputs": [
    {
     "output_type": "execute_result",
     "data": {
      "text/plain": [
       "ID                    0\n",
       "Day_No                0\n",
       "Course_ID             0\n",
       "Course_Domain         0\n",
       "Course_Type           0\n",
       "Short_Promotion       0\n",
       "Public_Holiday        0\n",
       "Long_Promotion        0\n",
       "Competition_Metric    0\n",
       "dtype: int64"
      ]
     },
     "metadata": {},
     "execution_count": 120
    }
   ],
   "metadata": {}
  },
  {
   "cell_type": "code",
   "execution_count": 14,
   "source": [
    "train_data.nunique()"
   ],
   "outputs": [
    {
     "output_type": "execute_result",
     "data": {
      "text/plain": [
       "ID                    512087\n",
       "Day_No                   882\n",
       "Course_ID                600\n",
       "Course_Domain              4\n",
       "Course_Type                3\n",
       "Short_Promotion            2\n",
       "Public_Holiday             2\n",
       "Long_Promotion             2\n",
       "User_Traffic            3475\n",
       "Competition_Metric       196\n",
       "Sales                    544\n",
       "dtype: int64"
      ]
     },
     "metadata": {},
     "execution_count": 14
    }
   ],
   "metadata": {}
  },
  {
   "cell_type": "code",
   "execution_count": 15,
   "source": [
    "train_data.dtypes"
   ],
   "outputs": [
    {
     "output_type": "execute_result",
     "data": {
      "text/plain": [
       "ID                      int64\n",
       "Day_No                  int64\n",
       "Course_ID               int64\n",
       "Course_Domain          object\n",
       "Course_Type            object\n",
       "Short_Promotion         int64\n",
       "Public_Holiday          int64\n",
       "Long_Promotion          int64\n",
       "User_Traffic            int64\n",
       "Competition_Metric    float64\n",
       "Sales                   int64\n",
       "dtype: object"
      ]
     },
     "metadata": {},
     "execution_count": 15
    }
   ],
   "metadata": {}
  },
  {
   "cell_type": "code",
   "execution_count": 121,
   "source": [
    "train_data.describe()"
   ],
   "outputs": [
    {
     "output_type": "execute_result",
     "data": {
      "text/plain": [
       "                  ID         Day_No      Course_ID  Short_Promotion  \\\n",
       "count  512087.000000  512087.000000  512087.000000    512087.000000   \n",
       "mean   274007.300650     434.917869     300.388344         0.380244   \n",
       "std    158228.834029     256.044161     173.365787         0.485447   \n",
       "min         1.000000       1.000000       1.000000         0.000000   \n",
       "25%    136962.500000     214.000000     150.000000         0.000000   \n",
       "50%    273984.000000     427.000000     300.000000         0.000000   \n",
       "75%    411065.500000     658.000000     451.000000         1.000000   \n",
       "max    548027.000000     882.000000     600.000000         1.000000   \n",
       "\n",
       "       Public_Holiday  Long_Promotion   User_Traffic  Competition_Metric  \\\n",
       "count   512087.000000   512087.000000  512087.000000       512087.000000   \n",
       "mean         0.031639        0.488968   15375.101198            0.073092   \n",
       "std          0.175038        0.499879    7727.231205            0.100035   \n",
       "min          0.000000        0.000000     168.000000            0.000000   \n",
       "25%          0.000000        0.000000   10584.000000            0.010000   \n",
       "50%          0.000000        0.000000   13776.000000            0.035000   \n",
       "75%          0.000000        1.000000   18123.000000            0.094000   \n",
       "max          1.000000        1.000000  100002.000000            0.768000   \n",
       "\n",
       "               Sales  \n",
       "count  512087.000000  \n",
       "mean      120.826924  \n",
       "std        54.355258  \n",
       "min         0.000000  \n",
       "25%        84.000000  \n",
       "50%       111.000000  \n",
       "75%       146.000000  \n",
       "max       682.000000  "
      ],
      "text/html": [
       "<div>\n",
       "<style scoped>\n",
       "    .dataframe tbody tr th:only-of-type {\n",
       "        vertical-align: middle;\n",
       "    }\n",
       "\n",
       "    .dataframe tbody tr th {\n",
       "        vertical-align: top;\n",
       "    }\n",
       "\n",
       "    .dataframe thead th {\n",
       "        text-align: right;\n",
       "    }\n",
       "</style>\n",
       "<table border=\"1\" class=\"dataframe\">\n",
       "  <thead>\n",
       "    <tr style=\"text-align: right;\">\n",
       "      <th></th>\n",
       "      <th>ID</th>\n",
       "      <th>Day_No</th>\n",
       "      <th>Course_ID</th>\n",
       "      <th>Short_Promotion</th>\n",
       "      <th>Public_Holiday</th>\n",
       "      <th>Long_Promotion</th>\n",
       "      <th>User_Traffic</th>\n",
       "      <th>Competition_Metric</th>\n",
       "      <th>Sales</th>\n",
       "    </tr>\n",
       "  </thead>\n",
       "  <tbody>\n",
       "    <tr>\n",
       "      <th>count</th>\n",
       "      <td>512087.000000</td>\n",
       "      <td>512087.000000</td>\n",
       "      <td>512087.000000</td>\n",
       "      <td>512087.000000</td>\n",
       "      <td>512087.000000</td>\n",
       "      <td>512087.000000</td>\n",
       "      <td>512087.000000</td>\n",
       "      <td>512087.000000</td>\n",
       "      <td>512087.000000</td>\n",
       "    </tr>\n",
       "    <tr>\n",
       "      <th>mean</th>\n",
       "      <td>274007.300650</td>\n",
       "      <td>434.917869</td>\n",
       "      <td>300.388344</td>\n",
       "      <td>0.380244</td>\n",
       "      <td>0.031639</td>\n",
       "      <td>0.488968</td>\n",
       "      <td>15375.101198</td>\n",
       "      <td>0.073092</td>\n",
       "      <td>120.826924</td>\n",
       "    </tr>\n",
       "    <tr>\n",
       "      <th>std</th>\n",
       "      <td>158228.834029</td>\n",
       "      <td>256.044161</td>\n",
       "      <td>173.365787</td>\n",
       "      <td>0.485447</td>\n",
       "      <td>0.175038</td>\n",
       "      <td>0.499879</td>\n",
       "      <td>7727.231205</td>\n",
       "      <td>0.100035</td>\n",
       "      <td>54.355258</td>\n",
       "    </tr>\n",
       "    <tr>\n",
       "      <th>min</th>\n",
       "      <td>1.000000</td>\n",
       "      <td>1.000000</td>\n",
       "      <td>1.000000</td>\n",
       "      <td>0.000000</td>\n",
       "      <td>0.000000</td>\n",
       "      <td>0.000000</td>\n",
       "      <td>168.000000</td>\n",
       "      <td>0.000000</td>\n",
       "      <td>0.000000</td>\n",
       "    </tr>\n",
       "    <tr>\n",
       "      <th>25%</th>\n",
       "      <td>136962.500000</td>\n",
       "      <td>214.000000</td>\n",
       "      <td>150.000000</td>\n",
       "      <td>0.000000</td>\n",
       "      <td>0.000000</td>\n",
       "      <td>0.000000</td>\n",
       "      <td>10584.000000</td>\n",
       "      <td>0.010000</td>\n",
       "      <td>84.000000</td>\n",
       "    </tr>\n",
       "    <tr>\n",
       "      <th>50%</th>\n",
       "      <td>273984.000000</td>\n",
       "      <td>427.000000</td>\n",
       "      <td>300.000000</td>\n",
       "      <td>0.000000</td>\n",
       "      <td>0.000000</td>\n",
       "      <td>0.000000</td>\n",
       "      <td>13776.000000</td>\n",
       "      <td>0.035000</td>\n",
       "      <td>111.000000</td>\n",
       "    </tr>\n",
       "    <tr>\n",
       "      <th>75%</th>\n",
       "      <td>411065.500000</td>\n",
       "      <td>658.000000</td>\n",
       "      <td>451.000000</td>\n",
       "      <td>1.000000</td>\n",
       "      <td>0.000000</td>\n",
       "      <td>1.000000</td>\n",
       "      <td>18123.000000</td>\n",
       "      <td>0.094000</td>\n",
       "      <td>146.000000</td>\n",
       "    </tr>\n",
       "    <tr>\n",
       "      <th>max</th>\n",
       "      <td>548027.000000</td>\n",
       "      <td>882.000000</td>\n",
       "      <td>600.000000</td>\n",
       "      <td>1.000000</td>\n",
       "      <td>1.000000</td>\n",
       "      <td>1.000000</td>\n",
       "      <td>100002.000000</td>\n",
       "      <td>0.768000</td>\n",
       "      <td>682.000000</td>\n",
       "    </tr>\n",
       "  </tbody>\n",
       "</table>\n",
       "</div>"
      ]
     },
     "metadata": {},
     "execution_count": 121
    }
   ],
   "metadata": {}
  },
  {
   "cell_type": "code",
   "execution_count": 5,
   "source": [
    "# Category Columns\r\n",
    "\r\n",
    "category_columns = ['Course_Domain', 'Course_Type', 'Short_Promotion', 'Public_Holiday', 'Long_Promotion']\r\n",
    "\r\n",
    "for i in category_columns:\r\n",
    "    train_data[i] = train_data[i].astype('category')"
   ],
   "outputs": [],
   "metadata": {}
  },
  {
   "cell_type": "code",
   "execution_count": 17,
   "source": [
    "train_data.dtypes"
   ],
   "outputs": [
    {
     "output_type": "execute_result",
     "data": {
      "text/plain": [
       "ID                       int64\n",
       "Day_No                   int64\n",
       "Course_ID                int64\n",
       "Course_Domain         category\n",
       "Course_Type           category\n",
       "Short_Promotion       category\n",
       "Public_Holiday        category\n",
       "Long_Promotion        category\n",
       "User_Traffic             int64\n",
       "Competition_Metric     float64\n",
       "Sales                    int64\n",
       "dtype: object"
      ]
     },
     "metadata": {},
     "execution_count": 17
    }
   ],
   "metadata": {}
  },
  {
   "cell_type": "markdown",
   "source": [
    "# New Features"
   ],
   "metadata": {}
  },
  {
   "cell_type": "markdown",
   "source": [
    "Day Number is of no use directly here. We will try to convert Day to Date, Year, Month, Week"
   ],
   "metadata": {}
  },
  {
   "cell_type": "markdown",
   "source": [
    "By looking at data, I assumed that Day 1 is 01/01/2016. Year 2016 because its a leap year. I got to know about leap yr via ‘Public Holiday’ on 366th Day."
   ],
   "metadata": {}
  },
  {
   "cell_type": "code",
   "execution_count": 6,
   "source": [
    "# Function to convert Day_No to Year\r\n",
    "def year_convert(df):\r\n",
    "    Year_data = []\r\n",
    "    for i in df.Day_No:\r\n",
    "        if (i <= 366):\r\n",
    "            Year_data.append(\"2016\") \r\n",
    "        elif (i <= 731):\r\n",
    "            Year_data.append(\"2017\") \r\n",
    "        else:\r\n",
    "            Year_data.append(\"2018\")\r\n",
    "    \r\n",
    "    return Year_data\r\n"
   ],
   "outputs": [],
   "metadata": {}
  },
  {
   "cell_type": "code",
   "execution_count": 7,
   "source": [
    "train_data[\"Year\"] = year_convert(train_data)\r\n",
    "test_data[\"Year\"] = year_convert(test_data)"
   ],
   "outputs": [],
   "metadata": {}
  },
  {
   "cell_type": "code",
   "execution_count": 8,
   "source": [
    "train_data.tail()"
   ],
   "outputs": [
    {
     "output_type": "execute_result",
     "data": {
      "text/plain": [
       "            ID  Day_No  Course_ID       Course_Domain Course_Type  \\\n",
       "512082  548023     878        600  Software Marketing     Program   \n",
       "512083  548024     879        600  Software Marketing     Program   \n",
       "512084  548025     880        600  Software Marketing     Program   \n",
       "512085  548026     881        600  Software Marketing     Program   \n",
       "512086  548027     882        600  Software Marketing     Program   \n",
       "\n",
       "       Short_Promotion Public_Holiday Long_Promotion  User_Traffic  \\\n",
       "512082               0              0              1          8904   \n",
       "512083               0              0              1         10542   \n",
       "512084               0              0              1         13671   \n",
       "512085               0              0              1          8904   \n",
       "512086               1              0              1         11445   \n",
       "\n",
       "        Competition_Metric  Sales  Year  \n",
       "512082                0.07    114  2018  \n",
       "512083                0.07    145  2018  \n",
       "512084                0.07    167  2018  \n",
       "512085                0.07    107  2018  \n",
       "512086                0.07    152  2018  "
      ],
      "text/html": [
       "<div>\n",
       "<style scoped>\n",
       "    .dataframe tbody tr th:only-of-type {\n",
       "        vertical-align: middle;\n",
       "    }\n",
       "\n",
       "    .dataframe tbody tr th {\n",
       "        vertical-align: top;\n",
       "    }\n",
       "\n",
       "    .dataframe thead th {\n",
       "        text-align: right;\n",
       "    }\n",
       "</style>\n",
       "<table border=\"1\" class=\"dataframe\">\n",
       "  <thead>\n",
       "    <tr style=\"text-align: right;\">\n",
       "      <th></th>\n",
       "      <th>ID</th>\n",
       "      <th>Day_No</th>\n",
       "      <th>Course_ID</th>\n",
       "      <th>Course_Domain</th>\n",
       "      <th>Course_Type</th>\n",
       "      <th>Short_Promotion</th>\n",
       "      <th>Public_Holiday</th>\n",
       "      <th>Long_Promotion</th>\n",
       "      <th>User_Traffic</th>\n",
       "      <th>Competition_Metric</th>\n",
       "      <th>Sales</th>\n",
       "      <th>Year</th>\n",
       "    </tr>\n",
       "  </thead>\n",
       "  <tbody>\n",
       "    <tr>\n",
       "      <th>512082</th>\n",
       "      <td>548023</td>\n",
       "      <td>878</td>\n",
       "      <td>600</td>\n",
       "      <td>Software Marketing</td>\n",
       "      <td>Program</td>\n",
       "      <td>0</td>\n",
       "      <td>0</td>\n",
       "      <td>1</td>\n",
       "      <td>8904</td>\n",
       "      <td>0.07</td>\n",
       "      <td>114</td>\n",
       "      <td>2018</td>\n",
       "    </tr>\n",
       "    <tr>\n",
       "      <th>512083</th>\n",
       "      <td>548024</td>\n",
       "      <td>879</td>\n",
       "      <td>600</td>\n",
       "      <td>Software Marketing</td>\n",
       "      <td>Program</td>\n",
       "      <td>0</td>\n",
       "      <td>0</td>\n",
       "      <td>1</td>\n",
       "      <td>10542</td>\n",
       "      <td>0.07</td>\n",
       "      <td>145</td>\n",
       "      <td>2018</td>\n",
       "    </tr>\n",
       "    <tr>\n",
       "      <th>512084</th>\n",
       "      <td>548025</td>\n",
       "      <td>880</td>\n",
       "      <td>600</td>\n",
       "      <td>Software Marketing</td>\n",
       "      <td>Program</td>\n",
       "      <td>0</td>\n",
       "      <td>0</td>\n",
       "      <td>1</td>\n",
       "      <td>13671</td>\n",
       "      <td>0.07</td>\n",
       "      <td>167</td>\n",
       "      <td>2018</td>\n",
       "    </tr>\n",
       "    <tr>\n",
       "      <th>512085</th>\n",
       "      <td>548026</td>\n",
       "      <td>881</td>\n",
       "      <td>600</td>\n",
       "      <td>Software Marketing</td>\n",
       "      <td>Program</td>\n",
       "      <td>0</td>\n",
       "      <td>0</td>\n",
       "      <td>1</td>\n",
       "      <td>8904</td>\n",
       "      <td>0.07</td>\n",
       "      <td>107</td>\n",
       "      <td>2018</td>\n",
       "    </tr>\n",
       "    <tr>\n",
       "      <th>512086</th>\n",
       "      <td>548027</td>\n",
       "      <td>882</td>\n",
       "      <td>600</td>\n",
       "      <td>Software Marketing</td>\n",
       "      <td>Program</td>\n",
       "      <td>1</td>\n",
       "      <td>0</td>\n",
       "      <td>1</td>\n",
       "      <td>11445</td>\n",
       "      <td>0.07</td>\n",
       "      <td>152</td>\n",
       "      <td>2018</td>\n",
       "    </tr>\n",
       "  </tbody>\n",
       "</table>\n",
       "</div>"
      ]
     },
     "metadata": {},
     "execution_count": 8
    }
   ],
   "metadata": {}
  },
  {
   "cell_type": "code",
   "execution_count": 9,
   "source": [
    "test_data.head()"
   ],
   "outputs": [
    {
     "output_type": "execute_result",
     "data": {
      "text/plain": [
       "    ID  Day_No  Course_ID Course_Domain Course_Type  Short_Promotion  \\\n",
       "0  883     883          1   Development      Course                1   \n",
       "1  884     884          1   Development      Course                1   \n",
       "2  885     885          1   Development      Course                1   \n",
       "3  886     886          1   Development      Course                1   \n",
       "4  887     887          1   Development      Course                0   \n",
       "\n",
       "   Public_Holiday  Long_Promotion  Competition_Metric  Year  \n",
       "0               0               1               0.007  2018  \n",
       "1               0               1               0.007  2018  \n",
       "2               0               1               0.007  2018  \n",
       "3               0               1               0.007  2018  \n",
       "4               0               1               0.007  2018  "
      ],
      "text/html": [
       "<div>\n",
       "<style scoped>\n",
       "    .dataframe tbody tr th:only-of-type {\n",
       "        vertical-align: middle;\n",
       "    }\n",
       "\n",
       "    .dataframe tbody tr th {\n",
       "        vertical-align: top;\n",
       "    }\n",
       "\n",
       "    .dataframe thead th {\n",
       "        text-align: right;\n",
       "    }\n",
       "</style>\n",
       "<table border=\"1\" class=\"dataframe\">\n",
       "  <thead>\n",
       "    <tr style=\"text-align: right;\">\n",
       "      <th></th>\n",
       "      <th>ID</th>\n",
       "      <th>Day_No</th>\n",
       "      <th>Course_ID</th>\n",
       "      <th>Course_Domain</th>\n",
       "      <th>Course_Type</th>\n",
       "      <th>Short_Promotion</th>\n",
       "      <th>Public_Holiday</th>\n",
       "      <th>Long_Promotion</th>\n",
       "      <th>Competition_Metric</th>\n",
       "      <th>Year</th>\n",
       "    </tr>\n",
       "  </thead>\n",
       "  <tbody>\n",
       "    <tr>\n",
       "      <th>0</th>\n",
       "      <td>883</td>\n",
       "      <td>883</td>\n",
       "      <td>1</td>\n",
       "      <td>Development</td>\n",
       "      <td>Course</td>\n",
       "      <td>1</td>\n",
       "      <td>0</td>\n",
       "      <td>1</td>\n",
       "      <td>0.007</td>\n",
       "      <td>2018</td>\n",
       "    </tr>\n",
       "    <tr>\n",
       "      <th>1</th>\n",
       "      <td>884</td>\n",
       "      <td>884</td>\n",
       "      <td>1</td>\n",
       "      <td>Development</td>\n",
       "      <td>Course</td>\n",
       "      <td>1</td>\n",
       "      <td>0</td>\n",
       "      <td>1</td>\n",
       "      <td>0.007</td>\n",
       "      <td>2018</td>\n",
       "    </tr>\n",
       "    <tr>\n",
       "      <th>2</th>\n",
       "      <td>885</td>\n",
       "      <td>885</td>\n",
       "      <td>1</td>\n",
       "      <td>Development</td>\n",
       "      <td>Course</td>\n",
       "      <td>1</td>\n",
       "      <td>0</td>\n",
       "      <td>1</td>\n",
       "      <td>0.007</td>\n",
       "      <td>2018</td>\n",
       "    </tr>\n",
       "    <tr>\n",
       "      <th>3</th>\n",
       "      <td>886</td>\n",
       "      <td>886</td>\n",
       "      <td>1</td>\n",
       "      <td>Development</td>\n",
       "      <td>Course</td>\n",
       "      <td>1</td>\n",
       "      <td>0</td>\n",
       "      <td>1</td>\n",
       "      <td>0.007</td>\n",
       "      <td>2018</td>\n",
       "    </tr>\n",
       "    <tr>\n",
       "      <th>4</th>\n",
       "      <td>887</td>\n",
       "      <td>887</td>\n",
       "      <td>1</td>\n",
       "      <td>Development</td>\n",
       "      <td>Course</td>\n",
       "      <td>0</td>\n",
       "      <td>0</td>\n",
       "      <td>1</td>\n",
       "      <td>0.007</td>\n",
       "      <td>2018</td>\n",
       "    </tr>\n",
       "  </tbody>\n",
       "</table>\n",
       "</div>"
      ]
     },
     "metadata": {},
     "execution_count": 9
    }
   ],
   "metadata": {}
  },
  {
   "cell_type": "code",
   "execution_count": 10,
   "source": [
    "# Function to convert Day_No to Day\r\n",
    "def day_convert(df):\r\n",
    "    day_data = []\r\n",
    "    for i in df.Day_No:\r\n",
    "        if (i <= 366):\r\n",
    "            day_data.append(i) \r\n",
    "        elif (i <= 731):\r\n",
    "            day_data.append(i - 366) \r\n",
    "        else:\r\n",
    "            day_data.append(i - 731)\r\n",
    "    return day_data"
   ],
   "outputs": [],
   "metadata": {}
  },
  {
   "cell_type": "code",
   "execution_count": 11,
   "source": [
    "train_data[\"Day\"] = day_convert(train_data)\r\n",
    "test_data[\"Day\"] = day_convert(test_data)"
   ],
   "outputs": [],
   "metadata": {}
  },
  {
   "cell_type": "code",
   "execution_count": 12,
   "source": [
    "train_data.tail()"
   ],
   "outputs": [
    {
     "output_type": "execute_result",
     "data": {
      "text/plain": [
       "            ID  Day_No  Course_ID       Course_Domain Course_Type  \\\n",
       "512082  548023     878        600  Software Marketing     Program   \n",
       "512083  548024     879        600  Software Marketing     Program   \n",
       "512084  548025     880        600  Software Marketing     Program   \n",
       "512085  548026     881        600  Software Marketing     Program   \n",
       "512086  548027     882        600  Software Marketing     Program   \n",
       "\n",
       "       Short_Promotion Public_Holiday Long_Promotion  User_Traffic  \\\n",
       "512082               0              0              1          8904   \n",
       "512083               0              0              1         10542   \n",
       "512084               0              0              1         13671   \n",
       "512085               0              0              1          8904   \n",
       "512086               1              0              1         11445   \n",
       "\n",
       "        Competition_Metric  Sales  Year  Day  \n",
       "512082                0.07    114  2018  147  \n",
       "512083                0.07    145  2018  148  \n",
       "512084                0.07    167  2018  149  \n",
       "512085                0.07    107  2018  150  \n",
       "512086                0.07    152  2018  151  "
      ],
      "text/html": [
       "<div>\n",
       "<style scoped>\n",
       "    .dataframe tbody tr th:only-of-type {\n",
       "        vertical-align: middle;\n",
       "    }\n",
       "\n",
       "    .dataframe tbody tr th {\n",
       "        vertical-align: top;\n",
       "    }\n",
       "\n",
       "    .dataframe thead th {\n",
       "        text-align: right;\n",
       "    }\n",
       "</style>\n",
       "<table border=\"1\" class=\"dataframe\">\n",
       "  <thead>\n",
       "    <tr style=\"text-align: right;\">\n",
       "      <th></th>\n",
       "      <th>ID</th>\n",
       "      <th>Day_No</th>\n",
       "      <th>Course_ID</th>\n",
       "      <th>Course_Domain</th>\n",
       "      <th>Course_Type</th>\n",
       "      <th>Short_Promotion</th>\n",
       "      <th>Public_Holiday</th>\n",
       "      <th>Long_Promotion</th>\n",
       "      <th>User_Traffic</th>\n",
       "      <th>Competition_Metric</th>\n",
       "      <th>Sales</th>\n",
       "      <th>Year</th>\n",
       "      <th>Day</th>\n",
       "    </tr>\n",
       "  </thead>\n",
       "  <tbody>\n",
       "    <tr>\n",
       "      <th>512082</th>\n",
       "      <td>548023</td>\n",
       "      <td>878</td>\n",
       "      <td>600</td>\n",
       "      <td>Software Marketing</td>\n",
       "      <td>Program</td>\n",
       "      <td>0</td>\n",
       "      <td>0</td>\n",
       "      <td>1</td>\n",
       "      <td>8904</td>\n",
       "      <td>0.07</td>\n",
       "      <td>114</td>\n",
       "      <td>2018</td>\n",
       "      <td>147</td>\n",
       "    </tr>\n",
       "    <tr>\n",
       "      <th>512083</th>\n",
       "      <td>548024</td>\n",
       "      <td>879</td>\n",
       "      <td>600</td>\n",
       "      <td>Software Marketing</td>\n",
       "      <td>Program</td>\n",
       "      <td>0</td>\n",
       "      <td>0</td>\n",
       "      <td>1</td>\n",
       "      <td>10542</td>\n",
       "      <td>0.07</td>\n",
       "      <td>145</td>\n",
       "      <td>2018</td>\n",
       "      <td>148</td>\n",
       "    </tr>\n",
       "    <tr>\n",
       "      <th>512084</th>\n",
       "      <td>548025</td>\n",
       "      <td>880</td>\n",
       "      <td>600</td>\n",
       "      <td>Software Marketing</td>\n",
       "      <td>Program</td>\n",
       "      <td>0</td>\n",
       "      <td>0</td>\n",
       "      <td>1</td>\n",
       "      <td>13671</td>\n",
       "      <td>0.07</td>\n",
       "      <td>167</td>\n",
       "      <td>2018</td>\n",
       "      <td>149</td>\n",
       "    </tr>\n",
       "    <tr>\n",
       "      <th>512085</th>\n",
       "      <td>548026</td>\n",
       "      <td>881</td>\n",
       "      <td>600</td>\n",
       "      <td>Software Marketing</td>\n",
       "      <td>Program</td>\n",
       "      <td>0</td>\n",
       "      <td>0</td>\n",
       "      <td>1</td>\n",
       "      <td>8904</td>\n",
       "      <td>0.07</td>\n",
       "      <td>107</td>\n",
       "      <td>2018</td>\n",
       "      <td>150</td>\n",
       "    </tr>\n",
       "    <tr>\n",
       "      <th>512086</th>\n",
       "      <td>548027</td>\n",
       "      <td>882</td>\n",
       "      <td>600</td>\n",
       "      <td>Software Marketing</td>\n",
       "      <td>Program</td>\n",
       "      <td>1</td>\n",
       "      <td>0</td>\n",
       "      <td>1</td>\n",
       "      <td>11445</td>\n",
       "      <td>0.07</td>\n",
       "      <td>152</td>\n",
       "      <td>2018</td>\n",
       "      <td>151</td>\n",
       "    </tr>\n",
       "  </tbody>\n",
       "</table>\n",
       "</div>"
      ]
     },
     "metadata": {},
     "execution_count": 12
    }
   ],
   "metadata": {}
  },
  {
   "cell_type": "code",
   "execution_count": 13,
   "source": [
    "test_data.head()"
   ],
   "outputs": [
    {
     "output_type": "execute_result",
     "data": {
      "text/plain": [
       "    ID  Day_No  Course_ID Course_Domain Course_Type  Short_Promotion  \\\n",
       "0  883     883          1   Development      Course                1   \n",
       "1  884     884          1   Development      Course                1   \n",
       "2  885     885          1   Development      Course                1   \n",
       "3  886     886          1   Development      Course                1   \n",
       "4  887     887          1   Development      Course                0   \n",
       "\n",
       "   Public_Holiday  Long_Promotion  Competition_Metric  Year  Day  \n",
       "0               0               1               0.007  2018  152  \n",
       "1               0               1               0.007  2018  153  \n",
       "2               0               1               0.007  2018  154  \n",
       "3               0               1               0.007  2018  155  \n",
       "4               0               1               0.007  2018  156  "
      ],
      "text/html": [
       "<div>\n",
       "<style scoped>\n",
       "    .dataframe tbody tr th:only-of-type {\n",
       "        vertical-align: middle;\n",
       "    }\n",
       "\n",
       "    .dataframe tbody tr th {\n",
       "        vertical-align: top;\n",
       "    }\n",
       "\n",
       "    .dataframe thead th {\n",
       "        text-align: right;\n",
       "    }\n",
       "</style>\n",
       "<table border=\"1\" class=\"dataframe\">\n",
       "  <thead>\n",
       "    <tr style=\"text-align: right;\">\n",
       "      <th></th>\n",
       "      <th>ID</th>\n",
       "      <th>Day_No</th>\n",
       "      <th>Course_ID</th>\n",
       "      <th>Course_Domain</th>\n",
       "      <th>Course_Type</th>\n",
       "      <th>Short_Promotion</th>\n",
       "      <th>Public_Holiday</th>\n",
       "      <th>Long_Promotion</th>\n",
       "      <th>Competition_Metric</th>\n",
       "      <th>Year</th>\n",
       "      <th>Day</th>\n",
       "    </tr>\n",
       "  </thead>\n",
       "  <tbody>\n",
       "    <tr>\n",
       "      <th>0</th>\n",
       "      <td>883</td>\n",
       "      <td>883</td>\n",
       "      <td>1</td>\n",
       "      <td>Development</td>\n",
       "      <td>Course</td>\n",
       "      <td>1</td>\n",
       "      <td>0</td>\n",
       "      <td>1</td>\n",
       "      <td>0.007</td>\n",
       "      <td>2018</td>\n",
       "      <td>152</td>\n",
       "    </tr>\n",
       "    <tr>\n",
       "      <th>1</th>\n",
       "      <td>884</td>\n",
       "      <td>884</td>\n",
       "      <td>1</td>\n",
       "      <td>Development</td>\n",
       "      <td>Course</td>\n",
       "      <td>1</td>\n",
       "      <td>0</td>\n",
       "      <td>1</td>\n",
       "      <td>0.007</td>\n",
       "      <td>2018</td>\n",
       "      <td>153</td>\n",
       "    </tr>\n",
       "    <tr>\n",
       "      <th>2</th>\n",
       "      <td>885</td>\n",
       "      <td>885</td>\n",
       "      <td>1</td>\n",
       "      <td>Development</td>\n",
       "      <td>Course</td>\n",
       "      <td>1</td>\n",
       "      <td>0</td>\n",
       "      <td>1</td>\n",
       "      <td>0.007</td>\n",
       "      <td>2018</td>\n",
       "      <td>154</td>\n",
       "    </tr>\n",
       "    <tr>\n",
       "      <th>3</th>\n",
       "      <td>886</td>\n",
       "      <td>886</td>\n",
       "      <td>1</td>\n",
       "      <td>Development</td>\n",
       "      <td>Course</td>\n",
       "      <td>1</td>\n",
       "      <td>0</td>\n",
       "      <td>1</td>\n",
       "      <td>0.007</td>\n",
       "      <td>2018</td>\n",
       "      <td>155</td>\n",
       "    </tr>\n",
       "    <tr>\n",
       "      <th>4</th>\n",
       "      <td>887</td>\n",
       "      <td>887</td>\n",
       "      <td>1</td>\n",
       "      <td>Development</td>\n",
       "      <td>Course</td>\n",
       "      <td>0</td>\n",
       "      <td>0</td>\n",
       "      <td>1</td>\n",
       "      <td>0.007</td>\n",
       "      <td>2018</td>\n",
       "      <td>156</td>\n",
       "    </tr>\n",
       "  </tbody>\n",
       "</table>\n",
       "</div>"
      ]
     },
     "metadata": {},
     "execution_count": 13
    }
   ],
   "metadata": {}
  },
  {
   "cell_type": "code",
   "execution_count": 14,
   "source": [
    "from datetime import datetime"
   ],
   "outputs": [],
   "metadata": {}
  },
  {
   "cell_type": "code",
   "execution_count": 15,
   "source": [
    "# Function to convert Day and Year to Date\r\n",
    "def date_convert(df):\r\n",
    "    date_data = []\r\n",
    "\r\n",
    "    for i in df.index:\r\n",
    "        date = datetime.strptime(str(df['Year'][i]) + \"-\" + str(df[\"Day\"][i]), \"%Y-%j\").strftime(\"%m-%d-%Y\")\r\n",
    "        date_data.append(date)\r\n",
    "    \r\n",
    "    return date_data"
   ],
   "outputs": [],
   "metadata": {}
  },
  {
   "cell_type": "code",
   "execution_count": 16,
   "source": [
    "train_data[\"Date\"] = date_convert(train_data)\r\n",
    "test_data[\"Date\"] = date_convert(test_data)\r\n"
   ],
   "outputs": [],
   "metadata": {}
  },
  {
   "cell_type": "code",
   "execution_count": 17,
   "source": [
    "# Function to find Month and WeekOfYear data\r\n",
    " \r\n",
    "def split_date(df):\r\n",
    "    df['Date'] = pd.to_datetime(df['Date'])\r\n",
    "    df['Month'] = df.Date.dt.month\r\n",
    "    df['WeekofYear'] = df.Date.dt.isocalendar().week"
   ],
   "outputs": [],
   "metadata": {}
  },
  {
   "cell_type": "code",
   "execution_count": 18,
   "source": [
    "split_date(train_data)\r\n",
    "split_date(test_data)"
   ],
   "outputs": [],
   "metadata": {}
  },
  {
   "cell_type": "code",
   "execution_count": 19,
   "source": [
    "train_data.tail()"
   ],
   "outputs": [
    {
     "output_type": "execute_result",
     "data": {
      "text/plain": [
       "            ID  Day_No  Course_ID       Course_Domain Course_Type  \\\n",
       "512082  548023     878        600  Software Marketing     Program   \n",
       "512083  548024     879        600  Software Marketing     Program   \n",
       "512084  548025     880        600  Software Marketing     Program   \n",
       "512085  548026     881        600  Software Marketing     Program   \n",
       "512086  548027     882        600  Software Marketing     Program   \n",
       "\n",
       "       Short_Promotion Public_Holiday Long_Promotion  User_Traffic  \\\n",
       "512082               0              0              1          8904   \n",
       "512083               0              0              1         10542   \n",
       "512084               0              0              1         13671   \n",
       "512085               0              0              1          8904   \n",
       "512086               1              0              1         11445   \n",
       "\n",
       "        Competition_Metric  Sales  Year  Day       Date  Month  WeekofYear  \n",
       "512082                0.07    114  2018  147 2018-05-27      5          21  \n",
       "512083                0.07    145  2018  148 2018-05-28      5          22  \n",
       "512084                0.07    167  2018  149 2018-05-29      5          22  \n",
       "512085                0.07    107  2018  150 2018-05-30      5          22  \n",
       "512086                0.07    152  2018  151 2018-05-31      5          22  "
      ],
      "text/html": [
       "<div>\n",
       "<style scoped>\n",
       "    .dataframe tbody tr th:only-of-type {\n",
       "        vertical-align: middle;\n",
       "    }\n",
       "\n",
       "    .dataframe tbody tr th {\n",
       "        vertical-align: top;\n",
       "    }\n",
       "\n",
       "    .dataframe thead th {\n",
       "        text-align: right;\n",
       "    }\n",
       "</style>\n",
       "<table border=\"1\" class=\"dataframe\">\n",
       "  <thead>\n",
       "    <tr style=\"text-align: right;\">\n",
       "      <th></th>\n",
       "      <th>ID</th>\n",
       "      <th>Day_No</th>\n",
       "      <th>Course_ID</th>\n",
       "      <th>Course_Domain</th>\n",
       "      <th>Course_Type</th>\n",
       "      <th>Short_Promotion</th>\n",
       "      <th>Public_Holiday</th>\n",
       "      <th>Long_Promotion</th>\n",
       "      <th>User_Traffic</th>\n",
       "      <th>Competition_Metric</th>\n",
       "      <th>Sales</th>\n",
       "      <th>Year</th>\n",
       "      <th>Day</th>\n",
       "      <th>Date</th>\n",
       "      <th>Month</th>\n",
       "      <th>WeekofYear</th>\n",
       "    </tr>\n",
       "  </thead>\n",
       "  <tbody>\n",
       "    <tr>\n",
       "      <th>512082</th>\n",
       "      <td>548023</td>\n",
       "      <td>878</td>\n",
       "      <td>600</td>\n",
       "      <td>Software Marketing</td>\n",
       "      <td>Program</td>\n",
       "      <td>0</td>\n",
       "      <td>0</td>\n",
       "      <td>1</td>\n",
       "      <td>8904</td>\n",
       "      <td>0.07</td>\n",
       "      <td>114</td>\n",
       "      <td>2018</td>\n",
       "      <td>147</td>\n",
       "      <td>2018-05-27</td>\n",
       "      <td>5</td>\n",
       "      <td>21</td>\n",
       "    </tr>\n",
       "    <tr>\n",
       "      <th>512083</th>\n",
       "      <td>548024</td>\n",
       "      <td>879</td>\n",
       "      <td>600</td>\n",
       "      <td>Software Marketing</td>\n",
       "      <td>Program</td>\n",
       "      <td>0</td>\n",
       "      <td>0</td>\n",
       "      <td>1</td>\n",
       "      <td>10542</td>\n",
       "      <td>0.07</td>\n",
       "      <td>145</td>\n",
       "      <td>2018</td>\n",
       "      <td>148</td>\n",
       "      <td>2018-05-28</td>\n",
       "      <td>5</td>\n",
       "      <td>22</td>\n",
       "    </tr>\n",
       "    <tr>\n",
       "      <th>512084</th>\n",
       "      <td>548025</td>\n",
       "      <td>880</td>\n",
       "      <td>600</td>\n",
       "      <td>Software Marketing</td>\n",
       "      <td>Program</td>\n",
       "      <td>0</td>\n",
       "      <td>0</td>\n",
       "      <td>1</td>\n",
       "      <td>13671</td>\n",
       "      <td>0.07</td>\n",
       "      <td>167</td>\n",
       "      <td>2018</td>\n",
       "      <td>149</td>\n",
       "      <td>2018-05-29</td>\n",
       "      <td>5</td>\n",
       "      <td>22</td>\n",
       "    </tr>\n",
       "    <tr>\n",
       "      <th>512085</th>\n",
       "      <td>548026</td>\n",
       "      <td>881</td>\n",
       "      <td>600</td>\n",
       "      <td>Software Marketing</td>\n",
       "      <td>Program</td>\n",
       "      <td>0</td>\n",
       "      <td>0</td>\n",
       "      <td>1</td>\n",
       "      <td>8904</td>\n",
       "      <td>0.07</td>\n",
       "      <td>107</td>\n",
       "      <td>2018</td>\n",
       "      <td>150</td>\n",
       "      <td>2018-05-30</td>\n",
       "      <td>5</td>\n",
       "      <td>22</td>\n",
       "    </tr>\n",
       "    <tr>\n",
       "      <th>512086</th>\n",
       "      <td>548027</td>\n",
       "      <td>882</td>\n",
       "      <td>600</td>\n",
       "      <td>Software Marketing</td>\n",
       "      <td>Program</td>\n",
       "      <td>1</td>\n",
       "      <td>0</td>\n",
       "      <td>1</td>\n",
       "      <td>11445</td>\n",
       "      <td>0.07</td>\n",
       "      <td>152</td>\n",
       "      <td>2018</td>\n",
       "      <td>151</td>\n",
       "      <td>2018-05-31</td>\n",
       "      <td>5</td>\n",
       "      <td>22</td>\n",
       "    </tr>\n",
       "  </tbody>\n",
       "</table>\n",
       "</div>"
      ]
     },
     "metadata": {},
     "execution_count": 19
    }
   ],
   "metadata": {}
  },
  {
   "cell_type": "code",
   "execution_count": 20,
   "source": [
    "test_data.head()"
   ],
   "outputs": [
    {
     "output_type": "execute_result",
     "data": {
      "text/plain": [
       "    ID  Day_No  Course_ID Course_Domain Course_Type  Short_Promotion  \\\n",
       "0  883     883          1   Development      Course                1   \n",
       "1  884     884          1   Development      Course                1   \n",
       "2  885     885          1   Development      Course                1   \n",
       "3  886     886          1   Development      Course                1   \n",
       "4  887     887          1   Development      Course                0   \n",
       "\n",
       "   Public_Holiday  Long_Promotion  Competition_Metric  Year  Day       Date  \\\n",
       "0               0               1               0.007  2018  152 2018-06-01   \n",
       "1               0               1               0.007  2018  153 2018-06-02   \n",
       "2               0               1               0.007  2018  154 2018-06-03   \n",
       "3               0               1               0.007  2018  155 2018-06-04   \n",
       "4               0               1               0.007  2018  156 2018-06-05   \n",
       "\n",
       "   Month  WeekofYear  \n",
       "0      6          22  \n",
       "1      6          22  \n",
       "2      6          22  \n",
       "3      6          23  \n",
       "4      6          23  "
      ],
      "text/html": [
       "<div>\n",
       "<style scoped>\n",
       "    .dataframe tbody tr th:only-of-type {\n",
       "        vertical-align: middle;\n",
       "    }\n",
       "\n",
       "    .dataframe tbody tr th {\n",
       "        vertical-align: top;\n",
       "    }\n",
       "\n",
       "    .dataframe thead th {\n",
       "        text-align: right;\n",
       "    }\n",
       "</style>\n",
       "<table border=\"1\" class=\"dataframe\">\n",
       "  <thead>\n",
       "    <tr style=\"text-align: right;\">\n",
       "      <th></th>\n",
       "      <th>ID</th>\n",
       "      <th>Day_No</th>\n",
       "      <th>Course_ID</th>\n",
       "      <th>Course_Domain</th>\n",
       "      <th>Course_Type</th>\n",
       "      <th>Short_Promotion</th>\n",
       "      <th>Public_Holiday</th>\n",
       "      <th>Long_Promotion</th>\n",
       "      <th>Competition_Metric</th>\n",
       "      <th>Year</th>\n",
       "      <th>Day</th>\n",
       "      <th>Date</th>\n",
       "      <th>Month</th>\n",
       "      <th>WeekofYear</th>\n",
       "    </tr>\n",
       "  </thead>\n",
       "  <tbody>\n",
       "    <tr>\n",
       "      <th>0</th>\n",
       "      <td>883</td>\n",
       "      <td>883</td>\n",
       "      <td>1</td>\n",
       "      <td>Development</td>\n",
       "      <td>Course</td>\n",
       "      <td>1</td>\n",
       "      <td>0</td>\n",
       "      <td>1</td>\n",
       "      <td>0.007</td>\n",
       "      <td>2018</td>\n",
       "      <td>152</td>\n",
       "      <td>2018-06-01</td>\n",
       "      <td>6</td>\n",
       "      <td>22</td>\n",
       "    </tr>\n",
       "    <tr>\n",
       "      <th>1</th>\n",
       "      <td>884</td>\n",
       "      <td>884</td>\n",
       "      <td>1</td>\n",
       "      <td>Development</td>\n",
       "      <td>Course</td>\n",
       "      <td>1</td>\n",
       "      <td>0</td>\n",
       "      <td>1</td>\n",
       "      <td>0.007</td>\n",
       "      <td>2018</td>\n",
       "      <td>153</td>\n",
       "      <td>2018-06-02</td>\n",
       "      <td>6</td>\n",
       "      <td>22</td>\n",
       "    </tr>\n",
       "    <tr>\n",
       "      <th>2</th>\n",
       "      <td>885</td>\n",
       "      <td>885</td>\n",
       "      <td>1</td>\n",
       "      <td>Development</td>\n",
       "      <td>Course</td>\n",
       "      <td>1</td>\n",
       "      <td>0</td>\n",
       "      <td>1</td>\n",
       "      <td>0.007</td>\n",
       "      <td>2018</td>\n",
       "      <td>154</td>\n",
       "      <td>2018-06-03</td>\n",
       "      <td>6</td>\n",
       "      <td>22</td>\n",
       "    </tr>\n",
       "    <tr>\n",
       "      <th>3</th>\n",
       "      <td>886</td>\n",
       "      <td>886</td>\n",
       "      <td>1</td>\n",
       "      <td>Development</td>\n",
       "      <td>Course</td>\n",
       "      <td>1</td>\n",
       "      <td>0</td>\n",
       "      <td>1</td>\n",
       "      <td>0.007</td>\n",
       "      <td>2018</td>\n",
       "      <td>155</td>\n",
       "      <td>2018-06-04</td>\n",
       "      <td>6</td>\n",
       "      <td>23</td>\n",
       "    </tr>\n",
       "    <tr>\n",
       "      <th>4</th>\n",
       "      <td>887</td>\n",
       "      <td>887</td>\n",
       "      <td>1</td>\n",
       "      <td>Development</td>\n",
       "      <td>Course</td>\n",
       "      <td>0</td>\n",
       "      <td>0</td>\n",
       "      <td>1</td>\n",
       "      <td>0.007</td>\n",
       "      <td>2018</td>\n",
       "      <td>156</td>\n",
       "      <td>2018-06-05</td>\n",
       "      <td>6</td>\n",
       "      <td>23</td>\n",
       "    </tr>\n",
       "  </tbody>\n",
       "</table>\n",
       "</div>"
      ]
     },
     "metadata": {},
     "execution_count": 20
    }
   ],
   "metadata": {}
  },
  {
   "cell_type": "code",
   "execution_count": 21,
   "source": [
    "train_data['MonthYear'] = train_data['Month'].astype(str) + \"-\"+ train_data['Year'].astype(str)\r\n",
    "test_data['MonthYear'] = test_data['Month'].astype(str) + \"-\"+ test_data['Year'].astype(str)"
   ],
   "outputs": [],
   "metadata": {}
  },
  {
   "cell_type": "code",
   "execution_count": 22,
   "source": [
    "# Category Columns\r\n",
    "\r\n",
    "category_columns = ['Course_Domain', 'Course_Type', 'Short_Promotion', 'Public_Holiday', 'Long_Promotion', 'Year', 'Month', 'MonthYear']\r\n",
    "\r\n",
    "for i in category_columns:\r\n",
    "    train_data[i] = train_data[i].astype('category')\r\n",
    "    test_data[i] = test_data[i].astype('category')\r\n"
   ],
   "outputs": [],
   "metadata": {}
  },
  {
   "cell_type": "code",
   "execution_count": 23,
   "source": [
    "continuous_columns = train_data.select_dtypes([\"float64\", \"int64\"])"
   ],
   "outputs": [],
   "metadata": {}
  },
  {
   "cell_type": "code",
   "execution_count": 24,
   "source": [
    "len(continuous_columns.columns) + len(category_columns), len(train_data.columns)"
   ],
   "outputs": [
    {
     "output_type": "execute_result",
     "data": {
      "text/plain": [
       "(15, 17)"
      ]
     },
     "metadata": {},
     "execution_count": 24
    }
   ],
   "metadata": {}
  },
  {
   "cell_type": "code",
   "execution_count": 25,
   "source": [
    "# custom function for easy and efficient analysis of numerical univariate\r\n",
    "\r\n",
    "def UVA_numeric(data, var_group):\r\n",
    "  ''' \r\n",
    "  Univariate_Analysis_numeric\r\n",
    "  takes a group of variables (INTEGER and FLOAT) and plot/print all the descriptives and properties along with KDE.\r\n",
    "\r\n",
    "  Runs a loop: calculate all the descriptives of i(th) variable and plot/print it\r\n",
    "  '''\r\n",
    "\r\n",
    "  size = len(var_group)\r\n",
    "  plt.figure(figsize = (7*size,3), dpi = 100)\r\n",
    "  \r\n",
    "  #looping for each variable\r\n",
    "  for j,i in enumerate(var_group):\r\n",
    "    \r\n",
    "    # calculating descriptives of variable\r\n",
    "    mini = data[i].min()\r\n",
    "    maxi = data[i].max()\r\n",
    "    ran = data[i].max()-data[i].min()\r\n",
    "    mean = data[i].mean()\r\n",
    "    median = data[i].median()\r\n",
    "    st_dev = data[i].std()\r\n",
    "    skew = data[i].skew()\r\n",
    "    kurt = data[i].kurtosis()\r\n",
    "\r\n",
    "    # calculating points of standard deviation\r\n",
    "    points = mean-st_dev, mean+st_dev\r\n",
    "\r\n",
    "    #Plotting the variable with every information\r\n",
    "    plt.subplot(1,size,j+1)\r\n",
    "    sns.kdeplot(data[i], shade=True)\r\n",
    "    sns.lineplot(points, [0,0], color = 'black', label = \"std_dev\")\r\n",
    "    sns.scatterplot([mini,maxi], [0,0], color = 'orange', label = \"min/max\")\r\n",
    "    sns.scatterplot([mean], [0], color = 'red', label = \"mean\")\r\n",
    "    sns.scatterplot([median], [0], color = 'blue', label = \"median\")\r\n",
    "    plt.xlabel('{}'.format(i), fontsize = 20)\r\n",
    "    plt.ylabel('density')\r\n",
    "    plt.title('std_dev = {}; kurtosis = {};\\nskew = {}; range = {}\\nmean = {}; median = {}'.format((round(points[0],2),round(points[1],2)),\r\n",
    "                                                                                                   round(kurt,2),\r\n",
    "                                                                                                   round(skew,2),\r\n",
    "                                                                                                   (round(mini,2),round(maxi,2),round(ran,2)),\r\n",
    "                                                                                                   round(mean,2),\r\n",
    "                                                                                                   round(median,2)))"
   ],
   "outputs": [],
   "metadata": {}
  },
  {
   "cell_type": "code",
   "execution_count": 142,
   "source": [
    "def UVA_category(data, var_group):\r\n",
    "\r\n",
    "  '''\r\n",
    "  Univariate_Analysis_categorical\r\n",
    "  takes a group of variables (category) and plot/print all the value_counts and barplot.\r\n",
    "  '''\r\n",
    "  # setting figure_size\r\n",
    "  size = len(var_group)\r\n",
    "  plt.figure(figsize = (7*size,5), dpi = 100)\r\n",
    "\r\n",
    "  # for every variable\r\n",
    "  for j,i in enumerate(var_group):\r\n",
    "    norm_count = data[i].value_counts(normalize = True)\r\n",
    "    n_uni = data[i].nunique()\r\n",
    "\r\n",
    "  #Plotting the variable with every information\r\n",
    "    plt.subplot(1,size,j+1)\r\n",
    "    sns.barplot(norm_count, norm_count.index , order = norm_count.index)\r\n",
    "    plt.xlabel('fraction/percent', fontsize = 20)\r\n",
    "    plt.ylabel('{}'.format(i), fontsize = 20)\r\n",
    "    plt.title('n_uniques = {} \\n value counts \\n {};'.format(n_uni,norm_count))"
   ],
   "outputs": [],
   "metadata": {}
  },
  {
   "cell_type": "code",
   "execution_count": 143,
   "source": [
    "#UVA_numeric(train_data, ['User_Traffic', 'Competition_Metric', 'Sales', 'Day'])\r\n",
    "UVA_numeric(train_data, continuous_columns.columns)"
   ],
   "outputs": [
    {
     "output_type": "display_data",
     "data": {
      "text/plain": [
       "<Figure size 4900x300 with 7 Axes>"
      ],
      "image/png": "[encoded data removed]"
     },
     "metadata": {
      "needs_background": "light"
     }
    }
   ],
   "metadata": {}
  },
  {
   "cell_type": "markdown",
   "source": [
    "## <b>Conclusions</b>\r\n",
    "\r\n",
    "-0.5 to 0.5 -> Symmetric </br>\r\n",
    "Less than -0.5 -> Negatively Skewed </br>\r\n",
    "More then 0.5 -> Positively Skewed </br></br>\r\n",
    "\r\n",
    "Competition_Metric is Positively Skewed data. We need to normalize it\\\r\n",
    "\r\n",
    "- ID, Day_No and Day are pretty constant and not giving too much info. So can be eliminated during final modelling.\r\n",
    "- Lets investigate \"Competition_Metric\" further"
   ],
   "metadata": {}
  },
  {
   "cell_type": "code",
   "execution_count": 32,
   "source": [
    "UVA_numeric(train_data, [\"Competition_Metric\"])"
   ],
   "outputs": [
    {
     "output_type": "display_data",
     "data": {
      "text/plain": [
       "<Figure size 700x300 with 1 Axes>"
      ],
      "image/png": "[encoded data removed]"
     },
     "metadata": {
      "needs_background": "light"
     }
    }
   ],
   "metadata": {}
  },
  {
   "cell_type": "code",
   "execution_count": 33,
   "source": [
    "# standard deviation factor\r\n",
    "factor = 3\r\n",
    "\r\n",
    "# copying current_month\r\n",
    "cm_data = train_data[continuous_columns.columns]\r\n",
    "\r\n",
    "# filtering using standard deviation (not considering obseravtions > 3* standard deviation)\r\n",
    "cm_data = cm_data[cm_data.Competition_Metric < factor*cm_data.Competition_Metric.std()]\r\n",
    "\r\n",
    "# checking how many points removed\r\n",
    "len(train_data), len(cm_data), len(train_data) - len(cm_data), (len(train_data) - len(cm_data))/len(train_data)"
   ],
   "outputs": [
    {
     "output_type": "execute_result",
     "data": {
      "text/plain": [
       "(512087, 491985, 20102, 0.0392550484585627)"
      ]
     },
     "metadata": {},
     "execution_count": 33
    }
   ],
   "metadata": {}
  },
  {
   "cell_type": "markdown",
   "source": [
    "We cannot drop the outliers, as it results in loss of 21 courses. So, we will normalize the outliers"
   ],
   "metadata": {}
  },
  {
   "cell_type": "code",
   "execution_count": 34,
   "source": [
    "UVA_numeric(cm_data, [\"Competition_Metric\"])"
   ],
   "outputs": [
    {
     "output_type": "display_data",
     "data": {
      "text/plain": [
       "<Figure size 700x300 with 1 Axes>"
      ],
      "image/png": "[encoded data removed]"
     },
     "metadata": {
      "needs_background": "light"
     }
    }
   ],
   "metadata": {}
  },
  {
   "cell_type": "code",
   "execution_count": 35,
   "source": [
    "quant25 = train_data.Competition_Metric.quantile(0.25)\r\n",
    "quant75 = train_data.Competition_Metric.quantile(0.75)\r\n",
    "IQR = quant75 - quant25\r\n",
    "med = train_data.Competition_Metric.median()\r\n",
    "whis_low = med-(1.5*IQR)\r\n",
    "whis_high = med+(1.5*IQR)\r\n"
   ],
   "outputs": [],
   "metadata": {}
  },
  {
   "cell_type": "code",
   "execution_count": 36,
   "source": [
    "# Calculating Number of Outliers\r\n",
    "outlier_high = len(train_data.Competition_Metric[train_data.Competition_Metric>whis_high])\r\n",
    "outlier_low = len(train_data.Competition_Metric[train_data.Competition_Metric<whis_low])\r\n",
    "\r\n",
    "(outlier_high + outlier_low)/len(train_data.Competition_Metric)*100, len(train_data.Competition_Metric)\r\n"
   ],
   "outputs": [
    {
     "output_type": "execute_result",
     "data": {
      "text/plain": [
       "(14.381150078014088, 512087)"
      ]
     },
     "metadata": {},
     "execution_count": 36
    }
   ],
   "metadata": {}
  },
  {
   "cell_type": "code",
   "execution_count": 41,
   "source": [
    "# custom function for easy outlier analysis\r\n",
    "\r\n",
    "def UVA_outlier(data, var_group, include_outlier = True):\r\n",
    "  '''\r\n",
    "  Univariate_Analysis_outlier:\r\n",
    "  takes a group of variables (INTEGER and FLOAT) and plot/print boplot and descriptives\\n\r\n",
    "  Runs a loop: calculate all the descriptives of i(th) variable and plot/print it \\n\\n\r\n",
    "\r\n",
    "  data : dataframe from which to plot from\\n\r\n",
    "  var_group : {list} type Group of Continuous variables\\n\r\n",
    "  include_outlier : {bool} whether to include outliers or not, default = True\\n\r\n",
    "  '''\r\n",
    "\r\n",
    "  size = len(var_group)\r\n",
    "  plt.figure(figsize = (7*size,4), dpi = 100)\r\n",
    "  \r\n",
    "  #looping for each variable\r\n",
    "  for j,i in enumerate(var_group):\r\n",
    "    \r\n",
    "    # calculating descriptives of variable\r\n",
    "    quant25 = data[i].quantile(0.25)\r\n",
    "    quant75 = data[i].quantile(0.75)\r\n",
    "    IQR = quant75 - quant25\r\n",
    "    med = data[i].median()\r\n",
    "    whis_low = med-(1.5*IQR)\r\n",
    "    whis_high = med+(1.5*IQR)\r\n",
    "\r\n",
    "    # Calculating Number of Outliers\r\n",
    "    outlier_high = len(data[i][data[i]>whis_high])\r\n",
    "    outlier_low = len(data[i][data[i]<whis_low])\r\n",
    "\r\n",
    "    if include_outlier == True:\r\n",
    "      print(include_outlier)\r\n",
    "      #Plotting the variable with every information\r\n",
    "      plt.subplot(1,size,j+1)\r\n",
    "      sns.boxplot(data[i], orient=\"v\")\r\n",
    "      plt.ylabel('{}'.format(i))\r\n",
    "      plt.title('With Outliers\\nIQR = {}; Median = {} \\n 2nd,3rd  quartile = {};\\n Outlier (low/high) = {} \\n'.format(\r\n",
    "                                                                                                   round(IQR,2),\r\n",
    "                                                                                                   round(med,2),\r\n",
    "                                                                                                   (round(quant25,2),round(quant75,2)),\r\n",
    "                                                                                                   (outlier_low,outlier_high)\r\n",
    "                                                                                                   ))\r\n",
    "      \r\n",
    "    else:\r\n",
    "      # replacing outliers with max/min whisker\r\n",
    "      data2 = data[var_group][:]\r\n",
    "      data2[i][data2[i]>whis_high] = whis_high+1\r\n",
    "      data2[i][data2[i]<whis_low] = whis_low-1\r\n",
    "      \r\n",
    "      # plotting without outliers\r\n",
    "      plt.subplot(1,size,j+1)\r\n",
    "      sns.boxplot(data2[i], orient=\"v\")\r\n",
    "      plt.ylabel('{}'.format(i))\r\n",
    "      plt.title('Without Outliers\\nIQR = {}; Median = {} \\n 2nd,3rd  quartile = {};\\n Outlier (low/high) = {} \\n'.format(\r\n",
    "                                                                                                   round(IQR,2),\r\n",
    "                                                                                                   round(med,2),\r\n",
    "                                                                                                   (round(quant25,2),round(quant75,2)),\r\n",
    "                                                                                                   (outlier_low,outlier_high)\r\n",
    "                                                                                                   ))"
   ],
   "outputs": [],
   "metadata": {}
  },
  {
   "cell_type": "code",
   "execution_count": 38,
   "source": [
    "UVA_outlier(train_data, ['User_Traffic', 'Competition_Metric'])\r\n",
    "#UVA_numeric(train_data, ['User_Traffic', 'Competition_Metric', 'Sales', 'Day'])\r\n"
   ],
   "outputs": [
    {
     "output_type": "stream",
     "name": "stdout",
     "text": [
      "True\n",
      "True\n"
     ]
    },
    {
     "output_type": "display_data",
     "data": {
      "text/plain": [
       "<Figure size 1400x400 with 2 Axes>"
      ],
      "image/png": "[encoded data removed]"
     },
     "metadata": {
      "needs_background": "light"
     }
    }
   ],
   "metadata": {}
  },
  {
   "cell_type": "code",
   "execution_count": 39,
   "source": [
    "UVA_outlier(train_data, ['User_Traffic', 'Competition_Metric'], include_outlier=False)"
   ],
   "outputs": [
    {
     "output_type": "display_data",
     "data": {
      "text/plain": [
       "<Figure size 1400x400 with 2 Axes>"
      ],
      "image/png": "[encoded data removed]"
     },
     "metadata": {
      "needs_background": "light"
     }
    }
   ],
   "metadata": {}
  },
  {
   "cell_type": "code",
   "execution_count": 40,
   "source": [
    "plt.hist(train_data.Competition_Metric)"
   ],
   "outputs": [
    {
     "output_type": "execute_result",
     "data": {
      "text/plain": [
       "(array([357927.,  75408.,  36270.,  22380.,   8636.,   3528.,   3528.,\n",
       "           882.,    882.,    882.]),\n",
       " array([0.    , 0.0768, 0.1536, 0.2304, 0.3072, 0.384 , 0.4608, 0.5376,\n",
       "        0.6144, 0.6912, 0.768 ]),\n",
       " <BarContainer object of 10 artists>)"
      ]
     },
     "metadata": {},
     "execution_count": 40
    },
    {
     "output_type": "display_data",
     "data": {
      "text/plain": [
       "<Figure size 432x288 with 1 Axes>"
      ],
      "image/png": "[encoded data removed]"
     },
     "metadata": {
      "needs_background": "light"
     }
    }
   ],
   "metadata": {}
  },
  {
   "cell_type": "code",
   "execution_count": 41,
   "source": [
    "len(train_data), 100*len(train_data[train_data.Competition_Metric >= 0.5])/len(train_data)"
   ],
   "outputs": [
    {
     "output_type": "execute_result",
     "data": {
      "text/plain": [
       "(512087, 1.0334181496503523)"
      ]
     },
     "metadata": {},
     "execution_count": 41
    }
   ],
   "metadata": {}
  },
  {
   "cell_type": "code",
   "execution_count": 42,
   "source": [
    "train_data[train_data.Competition_Metric >= 0.5].describe()"
   ],
   "outputs": [
    {
     "output_type": "execute_result",
     "data": {
      "text/plain": [
       "                  ID       Day_No    Course_ID  User_Traffic  \\\n",
       "count    5292.000000  5292.000000  5292.000000   5292.000000   \n",
       "mean   244258.166667   441.500000   268.000000  14648.757937   \n",
       "std    121476.616972   254.635365   133.104024   6353.922891   \n",
       "min     64285.000000     1.000000    71.000000   1323.000000   \n",
       "25%    165423.750000   221.000000   182.000000   9639.000000   \n",
       "50%    226123.500000   441.500000   248.000000  13450.500000   \n",
       "75%    375459.250000   662.000000   412.000000  18963.000000   \n",
       "max    408134.000000   882.000000   447.000000  44478.000000   \n",
       "\n",
       "       Competition_Metric        Sales          Day   WeekofYear  \n",
       "count         5292.000000  5292.000000  5292.000000  5292.000000  \n",
       "mean             0.582833   118.008692   164.888889    23.986395  \n",
       "std              0.093357    59.419210   105.764711    15.108897  \n",
       "min              0.509000     4.000000     1.000000     1.000000  \n",
       "25%              0.510000    76.000000    74.000000    11.000000  \n",
       "50%              0.536500   106.000000   147.500000    21.500000  \n",
       "75%              0.637000   148.000000   256.000000    37.000000  \n",
       "max              0.768000   567.000000   366.000000    53.000000  "
      ],
      "text/html": [
       "<div>\n",
       "<style scoped>\n",
       "    .dataframe tbody tr th:only-of-type {\n",
       "        vertical-align: middle;\n",
       "    }\n",
       "\n",
       "    .dataframe tbody tr th {\n",
       "        vertical-align: top;\n",
       "    }\n",
       "\n",
       "    .dataframe thead th {\n",
       "        text-align: right;\n",
       "    }\n",
       "</style>\n",
       "<table border=\"1\" class=\"dataframe\">\n",
       "  <thead>\n",
       "    <tr style=\"text-align: right;\">\n",
       "      <th></th>\n",
       "      <th>ID</th>\n",
       "      <th>Day_No</th>\n",
       "      <th>Course_ID</th>\n",
       "      <th>User_Traffic</th>\n",
       "      <th>Competition_Metric</th>\n",
       "      <th>Sales</th>\n",
       "      <th>Day</th>\n",
       "      <th>WeekofYear</th>\n",
       "    </tr>\n",
       "  </thead>\n",
       "  <tbody>\n",
       "    <tr>\n",
       "      <th>count</th>\n",
       "      <td>5292.000000</td>\n",
       "      <td>5292.000000</td>\n",
       "      <td>5292.000000</td>\n",
       "      <td>5292.000000</td>\n",
       "      <td>5292.000000</td>\n",
       "      <td>5292.000000</td>\n",
       "      <td>5292.000000</td>\n",
       "      <td>5292.000000</td>\n",
       "    </tr>\n",
       "    <tr>\n",
       "      <th>mean</th>\n",
       "      <td>244258.166667</td>\n",
       "      <td>441.500000</td>\n",
       "      <td>268.000000</td>\n",
       "      <td>14648.757937</td>\n",
       "      <td>0.582833</td>\n",
       "      <td>118.008692</td>\n",
       "      <td>164.888889</td>\n",
       "      <td>23.986395</td>\n",
       "    </tr>\n",
       "    <tr>\n",
       "      <th>std</th>\n",
       "      <td>121476.616972</td>\n",
       "      <td>254.635365</td>\n",
       "      <td>133.104024</td>\n",
       "      <td>6353.922891</td>\n",
       "      <td>0.093357</td>\n",
       "      <td>59.419210</td>\n",
       "      <td>105.764711</td>\n",
       "      <td>15.108897</td>\n",
       "    </tr>\n",
       "    <tr>\n",
       "      <th>min</th>\n",
       "      <td>64285.000000</td>\n",
       "      <td>1.000000</td>\n",
       "      <td>71.000000</td>\n",
       "      <td>1323.000000</td>\n",
       "      <td>0.509000</td>\n",
       "      <td>4.000000</td>\n",
       "      <td>1.000000</td>\n",
       "      <td>1.000000</td>\n",
       "    </tr>\n",
       "    <tr>\n",
       "      <th>25%</th>\n",
       "      <td>165423.750000</td>\n",
       "      <td>221.000000</td>\n",
       "      <td>182.000000</td>\n",
       "      <td>9639.000000</td>\n",
       "      <td>0.510000</td>\n",
       "      <td>76.000000</td>\n",
       "      <td>74.000000</td>\n",
       "      <td>11.000000</td>\n",
       "    </tr>\n",
       "    <tr>\n",
       "      <th>50%</th>\n",
       "      <td>226123.500000</td>\n",
       "      <td>441.500000</td>\n",
       "      <td>248.000000</td>\n",
       "      <td>13450.500000</td>\n",
       "      <td>0.536500</td>\n",
       "      <td>106.000000</td>\n",
       "      <td>147.500000</td>\n",
       "      <td>21.500000</td>\n",
       "    </tr>\n",
       "    <tr>\n",
       "      <th>75%</th>\n",
       "      <td>375459.250000</td>\n",
       "      <td>662.000000</td>\n",
       "      <td>412.000000</td>\n",
       "      <td>18963.000000</td>\n",
       "      <td>0.637000</td>\n",
       "      <td>148.000000</td>\n",
       "      <td>256.000000</td>\n",
       "      <td>37.000000</td>\n",
       "    </tr>\n",
       "    <tr>\n",
       "      <th>max</th>\n",
       "      <td>408134.000000</td>\n",
       "      <td>882.000000</td>\n",
       "      <td>447.000000</td>\n",
       "      <td>44478.000000</td>\n",
       "      <td>0.768000</td>\n",
       "      <td>567.000000</td>\n",
       "      <td>366.000000</td>\n",
       "      <td>53.000000</td>\n",
       "    </tr>\n",
       "  </tbody>\n",
       "</table>\n",
       "</div>"
      ]
     },
     "metadata": {},
     "execution_count": 42
    }
   ],
   "metadata": {}
  },
  {
   "cell_type": "code",
   "execution_count": 43,
   "source": [
    "sns.lineplot(y = \"User_Traffic\", x = \"Competition_Metric\", data=train_data)\r\n",
    "\r\n",
    "train_data[['User_Traffic', 'Competition_Metric']].corr()"
   ],
   "outputs": [
    {
     "output_type": "execute_result",
     "data": {
      "text/plain": [
       "                    User_Traffic  Competition_Metric\n",
       "User_Traffic            1.000000           -0.148775\n",
       "Competition_Metric     -0.148775            1.000000"
      ],
      "text/html": [
       "<div>\n",
       "<style scoped>\n",
       "    .dataframe tbody tr th:only-of-type {\n",
       "        vertical-align: middle;\n",
       "    }\n",
       "\n",
       "    .dataframe tbody tr th {\n",
       "        vertical-align: top;\n",
       "    }\n",
       "\n",
       "    .dataframe thead th {\n",
       "        text-align: right;\n",
       "    }\n",
       "</style>\n",
       "<table border=\"1\" class=\"dataframe\">\n",
       "  <thead>\n",
       "    <tr style=\"text-align: right;\">\n",
       "      <th></th>\n",
       "      <th>User_Traffic</th>\n",
       "      <th>Competition_Metric</th>\n",
       "    </tr>\n",
       "  </thead>\n",
       "  <tbody>\n",
       "    <tr>\n",
       "      <th>User_Traffic</th>\n",
       "      <td>1.000000</td>\n",
       "      <td>-0.148775</td>\n",
       "    </tr>\n",
       "    <tr>\n",
       "      <th>Competition_Metric</th>\n",
       "      <td>-0.148775</td>\n",
       "      <td>1.000000</td>\n",
       "    </tr>\n",
       "  </tbody>\n",
       "</table>\n",
       "</div>"
      ]
     },
     "metadata": {},
     "execution_count": 43
    },
    {
     "output_type": "display_data",
     "data": {
      "text/plain": [
       "<Figure size 432x288 with 1 Axes>"
      ],
      "image/png": "[encoded data removed]"
     },
     "metadata": {
      "needs_background": "light"
     }
    }
   ],
   "metadata": {}
  },
  {
   "cell_type": "code",
   "execution_count": 44,
   "source": [
    "UVA_category(train_data, category_columns)"
   ],
   "outputs": [
    {
     "output_type": "display_data",
     "data": {
      "text/plain": [
       "<Figure size 5600x500 with 8 Axes>"
      ],
      "image/png": "[encoded data removed]"
     },
     "metadata": {
      "needs_background": "light"
     }
    }
   ],
   "metadata": {}
  },
  {
   "cell_type": "code",
   "execution_count": 26,
   "source": [
    "# We want to check sales per course\r\n",
    "\r\n",
    "sales_avg_per_course = train_data.groupby([\"Course_ID\"]).mean()"
   ],
   "outputs": [],
   "metadata": {}
  },
  {
   "cell_type": "code",
   "execution_count": 27,
   "source": [
    "sales_avg_per_course.Sales.describe()"
   ],
   "outputs": [
    {
     "output_type": "execute_result",
     "data": {
      "text/plain": [
       "count    600.000000\n",
       "mean     120.486379\n",
       "std       40.607455\n",
       "min       50.197279\n",
       "25%       92.487245\n",
       "50%      113.883787\n",
       "75%      138.797052\n",
       "max      337.649660\n",
       "Name: Sales, dtype: float64"
      ]
     },
     "metadata": {},
     "execution_count": 27
    }
   ],
   "metadata": {}
  },
  {
   "cell_type": "code",
   "execution_count": 28,
   "source": [
    "\r\n",
    "course_avg = pd.DataFrame({\r\n",
    "    \"Course_ID\": sales_avg_per_course.index,\r\n",
    "    \"Course_avg_sales\": sales_avg_per_course.Sales\r\n",
    "})"
   ],
   "outputs": [],
   "metadata": {}
  },
  {
   "cell_type": "code",
   "execution_count": 29,
   "source": [
    "course_avg.reset_index(drop= True, inplace=True)\r\n",
    "course_avg"
   ],
   "outputs": [
    {
     "output_type": "execute_result",
     "data": {
      "text/plain": [
       "     Course_ID  Course_avg_sales\n",
       "0            1         85.251701\n",
       "1            2        120.595238\n",
       "2            3        153.207483\n",
       "3            4         94.812925\n",
       "4            5        113.215420\n",
       "..         ...               ...\n",
       "595        596         84.924036\n",
       "596        597         91.241497\n",
       "597        598        180.100907\n",
       "598        599        116.346939\n",
       "599        600        109.198413\n",
       "\n",
       "[600 rows x 2 columns]"
      ],
      "text/html": [
       "<div>\n",
       "<style scoped>\n",
       "    .dataframe tbody tr th:only-of-type {\n",
       "        vertical-align: middle;\n",
       "    }\n",
       "\n",
       "    .dataframe tbody tr th {\n",
       "        vertical-align: top;\n",
       "    }\n",
       "\n",
       "    .dataframe thead th {\n",
       "        text-align: right;\n",
       "    }\n",
       "</style>\n",
       "<table border=\"1\" class=\"dataframe\">\n",
       "  <thead>\n",
       "    <tr style=\"text-align: right;\">\n",
       "      <th></th>\n",
       "      <th>Course_ID</th>\n",
       "      <th>Course_avg_sales</th>\n",
       "    </tr>\n",
       "  </thead>\n",
       "  <tbody>\n",
       "    <tr>\n",
       "      <th>0</th>\n",
       "      <td>1</td>\n",
       "      <td>85.251701</td>\n",
       "    </tr>\n",
       "    <tr>\n",
       "      <th>1</th>\n",
       "      <td>2</td>\n",
       "      <td>120.595238</td>\n",
       "    </tr>\n",
       "    <tr>\n",
       "      <th>2</th>\n",
       "      <td>3</td>\n",
       "      <td>153.207483</td>\n",
       "    </tr>\n",
       "    <tr>\n",
       "      <th>3</th>\n",
       "      <td>4</td>\n",
       "      <td>94.812925</td>\n",
       "    </tr>\n",
       "    <tr>\n",
       "      <th>4</th>\n",
       "      <td>5</td>\n",
       "      <td>113.215420</td>\n",
       "    </tr>\n",
       "    <tr>\n",
       "      <th>...</th>\n",
       "      <td>...</td>\n",
       "      <td>...</td>\n",
       "    </tr>\n",
       "    <tr>\n",
       "      <th>595</th>\n",
       "      <td>596</td>\n",
       "      <td>84.924036</td>\n",
       "    </tr>\n",
       "    <tr>\n",
       "      <th>596</th>\n",
       "      <td>597</td>\n",
       "      <td>91.241497</td>\n",
       "    </tr>\n",
       "    <tr>\n",
       "      <th>597</th>\n",
       "      <td>598</td>\n",
       "      <td>180.100907</td>\n",
       "    </tr>\n",
       "    <tr>\n",
       "      <th>598</th>\n",
       "      <td>599</td>\n",
       "      <td>116.346939</td>\n",
       "    </tr>\n",
       "    <tr>\n",
       "      <th>599</th>\n",
       "      <td>600</td>\n",
       "      <td>109.198413</td>\n",
       "    </tr>\n",
       "  </tbody>\n",
       "</table>\n",
       "<p>600 rows × 2 columns</p>\n",
       "</div>"
      ]
     },
     "metadata": {},
     "execution_count": 29
    }
   ],
   "metadata": {}
  },
  {
   "cell_type": "code",
   "execution_count": 30,
   "source": [
    "# Function to identify if the course has high sales or low sales\r\n",
    "def course_type(df):\r\n",
    "     Course_Sales_Type = []\r\n",
    "     for i in df.Course_avg_sales:\r\n",
    "          if (i > 138):\r\n",
    "               Course_Sales_Type.append(\"Top Sales\")\r\n",
    "          elif (i < 92):\r\n",
    "               Course_Sales_Type.append(\"Low Sales\")\r\n",
    "          else:\r\n",
    "               Course_Sales_Type.append(\"Average Sales\")    \r\n",
    "     return Course_Sales_Type\r\n"
   ],
   "outputs": [],
   "metadata": {}
  },
  {
   "cell_type": "code",
   "execution_count": 31,
   "source": [
    "course_avg[\"Course_Sales_Type\"] = course_type(course_avg)\r\n"
   ],
   "outputs": [],
   "metadata": {}
  },
  {
   "cell_type": "code",
   "execution_count": 32,
   "source": [
    "course_avg.Course_Sales_Type.value_counts()"
   ],
   "outputs": [
    {
     "output_type": "execute_result",
     "data": {
      "text/plain": [
       "Average Sales    300\n",
       "Top Sales        154\n",
       "Low Sales        146\n",
       "Name: Course_Sales_Type, dtype: int64"
      ]
     },
     "metadata": {},
     "execution_count": 32
    }
   ],
   "metadata": {}
  },
  {
   "cell_type": "code",
   "execution_count": 33,
   "source": [
    "train_data = train_data.merge(course_avg, how='left', on='Course_ID')\r\n"
   ],
   "outputs": [],
   "metadata": {}
  },
  {
   "cell_type": "code",
   "execution_count": 34,
   "source": [
    "test_data = test_data.merge(course_avg, how='left', on='Course_ID')\r\n"
   ],
   "outputs": [],
   "metadata": {}
  },
  {
   "cell_type": "code",
   "execution_count": 35,
   "source": [
    "train_data.shape, test_data.shape"
   ],
   "outputs": [
    {
     "output_type": "execute_result",
     "data": {
      "text/plain": [
       "((512087, 19), (36000, 17))"
      ]
     },
     "metadata": {},
     "execution_count": 35
    }
   ],
   "metadata": {}
  },
  {
   "cell_type": "code",
   "execution_count": 154,
   "source": [
    "train_data.tail()"
   ],
   "outputs": [
    {
     "output_type": "execute_result",
     "data": {
      "text/plain": [
       "            ID  Day_No  Course_ID       Course_Domain Course_Type  \\\n",
       "512082  548023     878        600  Software Marketing     Program   \n",
       "512083  548024     879        600  Software Marketing     Program   \n",
       "512084  548025     880        600  Software Marketing     Program   \n",
       "512085  548026     881        600  Software Marketing     Program   \n",
       "512086  548027     882        600  Software Marketing     Program   \n",
       "\n",
       "       Short_Promotion Public_Holiday Long_Promotion  User_Traffic  \\\n",
       "512082               0              0              1          8904   \n",
       "512083               0              0              1         10542   \n",
       "512084               0              0              1         13671   \n",
       "512085               0              0              1          8904   \n",
       "512086               1              0              1         11445   \n",
       "\n",
       "        Competition_Metric  Sales  Year  Day       Date Month  WeekofYear  \\\n",
       "512082                0.07    114  2018  147 2018-05-27     5          21   \n",
       "512083                0.07    145  2018  148 2018-05-28     5          22   \n",
       "512084                0.07    167  2018  149 2018-05-29     5          22   \n",
       "512085                0.07    107  2018  150 2018-05-30     5          22   \n",
       "512086                0.07    152  2018  151 2018-05-31     5          22   \n",
       "\n",
       "       MonthYear  Course_avg_sales Course_Sales_Type  \n",
       "512082    5-2018        109.198413     Average Sales  \n",
       "512083    5-2018        109.198413     Average Sales  \n",
       "512084    5-2018        109.198413     Average Sales  \n",
       "512085    5-2018        109.198413     Average Sales  \n",
       "512086    5-2018        109.198413     Average Sales  "
      ],
      "text/html": [
       "<div>\n",
       "<style scoped>\n",
       "    .dataframe tbody tr th:only-of-type {\n",
       "        vertical-align: middle;\n",
       "    }\n",
       "\n",
       "    .dataframe tbody tr th {\n",
       "        vertical-align: top;\n",
       "    }\n",
       "\n",
       "    .dataframe thead th {\n",
       "        text-align: right;\n",
       "    }\n",
       "</style>\n",
       "<table border=\"1\" class=\"dataframe\">\n",
       "  <thead>\n",
       "    <tr style=\"text-align: right;\">\n",
       "      <th></th>\n",
       "      <th>ID</th>\n",
       "      <th>Day_No</th>\n",
       "      <th>Course_ID</th>\n",
       "      <th>Course_Domain</th>\n",
       "      <th>Course_Type</th>\n",
       "      <th>Short_Promotion</th>\n",
       "      <th>Public_Holiday</th>\n",
       "      <th>Long_Promotion</th>\n",
       "      <th>User_Traffic</th>\n",
       "      <th>Competition_Metric</th>\n",
       "      <th>Sales</th>\n",
       "      <th>Year</th>\n",
       "      <th>Day</th>\n",
       "      <th>Date</th>\n",
       "      <th>Month</th>\n",
       "      <th>WeekofYear</th>\n",
       "      <th>MonthYear</th>\n",
       "      <th>Course_avg_sales</th>\n",
       "      <th>Course_Sales_Type</th>\n",
       "    </tr>\n",
       "  </thead>\n",
       "  <tbody>\n",
       "    <tr>\n",
       "      <th>512082</th>\n",
       "      <td>548023</td>\n",
       "      <td>878</td>\n",
       "      <td>600</td>\n",
       "      <td>Software Marketing</td>\n",
       "      <td>Program</td>\n",
       "      <td>0</td>\n",
       "      <td>0</td>\n",
       "      <td>1</td>\n",
       "      <td>8904</td>\n",
       "      <td>0.07</td>\n",
       "      <td>114</td>\n",
       "      <td>2018</td>\n",
       "      <td>147</td>\n",
       "      <td>2018-05-27</td>\n",
       "      <td>5</td>\n",
       "      <td>21</td>\n",
       "      <td>5-2018</td>\n",
       "      <td>109.198413</td>\n",
       "      <td>Average Sales</td>\n",
       "    </tr>\n",
       "    <tr>\n",
       "      <th>512083</th>\n",
       "      <td>548024</td>\n",
       "      <td>879</td>\n",
       "      <td>600</td>\n",
       "      <td>Software Marketing</td>\n",
       "      <td>Program</td>\n",
       "      <td>0</td>\n",
       "      <td>0</td>\n",
       "      <td>1</td>\n",
       "      <td>10542</td>\n",
       "      <td>0.07</td>\n",
       "      <td>145</td>\n",
       "      <td>2018</td>\n",
       "      <td>148</td>\n",
       "      <td>2018-05-28</td>\n",
       "      <td>5</td>\n",
       "      <td>22</td>\n",
       "      <td>5-2018</td>\n",
       "      <td>109.198413</td>\n",
       "      <td>Average Sales</td>\n",
       "    </tr>\n",
       "    <tr>\n",
       "      <th>512084</th>\n",
       "      <td>548025</td>\n",
       "      <td>880</td>\n",
       "      <td>600</td>\n",
       "      <td>Software Marketing</td>\n",
       "      <td>Program</td>\n",
       "      <td>0</td>\n",
       "      <td>0</td>\n",
       "      <td>1</td>\n",
       "      <td>13671</td>\n",
       "      <td>0.07</td>\n",
       "      <td>167</td>\n",
       "      <td>2018</td>\n",
       "      <td>149</td>\n",
       "      <td>2018-05-29</td>\n",
       "      <td>5</td>\n",
       "      <td>22</td>\n",
       "      <td>5-2018</td>\n",
       "      <td>109.198413</td>\n",
       "      <td>Average Sales</td>\n",
       "    </tr>\n",
       "    <tr>\n",
       "      <th>512085</th>\n",
       "      <td>548026</td>\n",
       "      <td>881</td>\n",
       "      <td>600</td>\n",
       "      <td>Software Marketing</td>\n",
       "      <td>Program</td>\n",
       "      <td>0</td>\n",
       "      <td>0</td>\n",
       "      <td>1</td>\n",
       "      <td>8904</td>\n",
       "      <td>0.07</td>\n",
       "      <td>107</td>\n",
       "      <td>2018</td>\n",
       "      <td>150</td>\n",
       "      <td>2018-05-30</td>\n",
       "      <td>5</td>\n",
       "      <td>22</td>\n",
       "      <td>5-2018</td>\n",
       "      <td>109.198413</td>\n",
       "      <td>Average Sales</td>\n",
       "    </tr>\n",
       "    <tr>\n",
       "      <th>512086</th>\n",
       "      <td>548027</td>\n",
       "      <td>882</td>\n",
       "      <td>600</td>\n",
       "      <td>Software Marketing</td>\n",
       "      <td>Program</td>\n",
       "      <td>1</td>\n",
       "      <td>0</td>\n",
       "      <td>1</td>\n",
       "      <td>11445</td>\n",
       "      <td>0.07</td>\n",
       "      <td>152</td>\n",
       "      <td>2018</td>\n",
       "      <td>151</td>\n",
       "      <td>2018-05-31</td>\n",
       "      <td>5</td>\n",
       "      <td>22</td>\n",
       "      <td>5-2018</td>\n",
       "      <td>109.198413</td>\n",
       "      <td>Average Sales</td>\n",
       "    </tr>\n",
       "  </tbody>\n",
       "</table>\n",
       "</div>"
      ]
     },
     "metadata": {},
     "execution_count": 154
    }
   ],
   "metadata": {}
  },
  {
   "cell_type": "code",
   "execution_count": 53,
   "source": [
    "test_data.head()"
   ],
   "outputs": [
    {
     "output_type": "execute_result",
     "data": {
      "text/plain": [
       "    ID  Day_No  Course_ID Course_Domain Course_Type Short_Promotion  \\\n",
       "0  883     883          1   Development      Course               1   \n",
       "1  884     884          1   Development      Course               1   \n",
       "2  885     885          1   Development      Course               1   \n",
       "3  886     886          1   Development      Course               1   \n",
       "4  887     887          1   Development      Course               0   \n",
       "\n",
       "  Public_Holiday Long_Promotion  Competition_Metric  Year  Day       Date  \\\n",
       "0              0              1               0.007  2018  152 2018-06-01   \n",
       "1              0              1               0.007  2018  153 2018-06-02   \n",
       "2              0              1               0.007  2018  154 2018-06-03   \n",
       "3              0              1               0.007  2018  155 2018-06-04   \n",
       "4              0              1               0.007  2018  156 2018-06-05   \n",
       "\n",
       "  Month  WeekofYear MonthYear  Course_avg_sales Course_Sales_Type  \n",
       "0     6          22    6-2018         85.251701         Low Sales  \n",
       "1     6          22    6-2018         85.251701         Low Sales  \n",
       "2     6          22    6-2018         85.251701         Low Sales  \n",
       "3     6          23    6-2018         85.251701         Low Sales  \n",
       "4     6          23    6-2018         85.251701         Low Sales  "
      ],
      "text/html": [
       "<div>\n",
       "<style scoped>\n",
       "    .dataframe tbody tr th:only-of-type {\n",
       "        vertical-align: middle;\n",
       "    }\n",
       "\n",
       "    .dataframe tbody tr th {\n",
       "        vertical-align: top;\n",
       "    }\n",
       "\n",
       "    .dataframe thead th {\n",
       "        text-align: right;\n",
       "    }\n",
       "</style>\n",
       "<table border=\"1\" class=\"dataframe\">\n",
       "  <thead>\n",
       "    <tr style=\"text-align: right;\">\n",
       "      <th></th>\n",
       "      <th>ID</th>\n",
       "      <th>Day_No</th>\n",
       "      <th>Course_ID</th>\n",
       "      <th>Course_Domain</th>\n",
       "      <th>Course_Type</th>\n",
       "      <th>Short_Promotion</th>\n",
       "      <th>Public_Holiday</th>\n",
       "      <th>Long_Promotion</th>\n",
       "      <th>Competition_Metric</th>\n",
       "      <th>Year</th>\n",
       "      <th>Day</th>\n",
       "      <th>Date</th>\n",
       "      <th>Month</th>\n",
       "      <th>WeekofYear</th>\n",
       "      <th>MonthYear</th>\n",
       "      <th>Course_avg_sales</th>\n",
       "      <th>Course_Sales_Type</th>\n",
       "    </tr>\n",
       "  </thead>\n",
       "  <tbody>\n",
       "    <tr>\n",
       "      <th>0</th>\n",
       "      <td>883</td>\n",
       "      <td>883</td>\n",
       "      <td>1</td>\n",
       "      <td>Development</td>\n",
       "      <td>Course</td>\n",
       "      <td>1</td>\n",
       "      <td>0</td>\n",
       "      <td>1</td>\n",
       "      <td>0.007</td>\n",
       "      <td>2018</td>\n",
       "      <td>152</td>\n",
       "      <td>2018-06-01</td>\n",
       "      <td>6</td>\n",
       "      <td>22</td>\n",
       "      <td>6-2018</td>\n",
       "      <td>85.251701</td>\n",
       "      <td>Low Sales</td>\n",
       "    </tr>\n",
       "    <tr>\n",
       "      <th>1</th>\n",
       "      <td>884</td>\n",
       "      <td>884</td>\n",
       "      <td>1</td>\n",
       "      <td>Development</td>\n",
       "      <td>Course</td>\n",
       "      <td>1</td>\n",
       "      <td>0</td>\n",
       "      <td>1</td>\n",
       "      <td>0.007</td>\n",
       "      <td>2018</td>\n",
       "      <td>153</td>\n",
       "      <td>2018-06-02</td>\n",
       "      <td>6</td>\n",
       "      <td>22</td>\n",
       "      <td>6-2018</td>\n",
       "      <td>85.251701</td>\n",
       "      <td>Low Sales</td>\n",
       "    </tr>\n",
       "    <tr>\n",
       "      <th>2</th>\n",
       "      <td>885</td>\n",
       "      <td>885</td>\n",
       "      <td>1</td>\n",
       "      <td>Development</td>\n",
       "      <td>Course</td>\n",
       "      <td>1</td>\n",
       "      <td>0</td>\n",
       "      <td>1</td>\n",
       "      <td>0.007</td>\n",
       "      <td>2018</td>\n",
       "      <td>154</td>\n",
       "      <td>2018-06-03</td>\n",
       "      <td>6</td>\n",
       "      <td>22</td>\n",
       "      <td>6-2018</td>\n",
       "      <td>85.251701</td>\n",
       "      <td>Low Sales</td>\n",
       "    </tr>\n",
       "    <tr>\n",
       "      <th>3</th>\n",
       "      <td>886</td>\n",
       "      <td>886</td>\n",
       "      <td>1</td>\n",
       "      <td>Development</td>\n",
       "      <td>Course</td>\n",
       "      <td>1</td>\n",
       "      <td>0</td>\n",
       "      <td>1</td>\n",
       "      <td>0.007</td>\n",
       "      <td>2018</td>\n",
       "      <td>155</td>\n",
       "      <td>2018-06-04</td>\n",
       "      <td>6</td>\n",
       "      <td>23</td>\n",
       "      <td>6-2018</td>\n",
       "      <td>85.251701</td>\n",
       "      <td>Low Sales</td>\n",
       "    </tr>\n",
       "    <tr>\n",
       "      <th>4</th>\n",
       "      <td>887</td>\n",
       "      <td>887</td>\n",
       "      <td>1</td>\n",
       "      <td>Development</td>\n",
       "      <td>Course</td>\n",
       "      <td>0</td>\n",
       "      <td>0</td>\n",
       "      <td>1</td>\n",
       "      <td>0.007</td>\n",
       "      <td>2018</td>\n",
       "      <td>156</td>\n",
       "      <td>2018-06-05</td>\n",
       "      <td>6</td>\n",
       "      <td>23</td>\n",
       "      <td>6-2018</td>\n",
       "      <td>85.251701</td>\n",
       "      <td>Low Sales</td>\n",
       "    </tr>\n",
       "  </tbody>\n",
       "</table>\n",
       "</div>"
      ]
     },
     "metadata": {},
     "execution_count": 53
    }
   ],
   "metadata": {}
  },
  {
   "cell_type": "code",
   "execution_count": 55,
   "source": [
    "pd.crosstab(train_data.Course_Sales_Type, [train_data.Short_Promotion, train_data.Long_Promotion], normalize=True, )"
   ],
   "outputs": [
    {
     "output_type": "execute_result",
     "data": {
      "text/plain": [
       "Short_Promotion           0                   1          \n",
       "Long_Promotion            0         1         0         1\n",
       "Course_Sales_Type                                        \n",
       "Average Sales      0.157149  0.152837  0.096609  0.093586\n",
       "Low Sales          0.060773  0.088450  0.037400  0.054061\n",
       "Top Sales          0.098515  0.062032  0.060587  0.038001"
      ],
      "text/html": [
       "<div>\n",
       "<style scoped>\n",
       "    .dataframe tbody tr th:only-of-type {\n",
       "        vertical-align: middle;\n",
       "    }\n",
       "\n",
       "    .dataframe tbody tr th {\n",
       "        vertical-align: top;\n",
       "    }\n",
       "\n",
       "    .dataframe thead tr th {\n",
       "        text-align: left;\n",
       "    }\n",
       "\n",
       "    .dataframe thead tr:last-of-type th {\n",
       "        text-align: right;\n",
       "    }\n",
       "</style>\n",
       "<table border=\"1\" class=\"dataframe\">\n",
       "  <thead>\n",
       "    <tr>\n",
       "      <th>Short_Promotion</th>\n",
       "      <th colspan=\"2\" halign=\"left\">0</th>\n",
       "      <th colspan=\"2\" halign=\"left\">1</th>\n",
       "    </tr>\n",
       "    <tr>\n",
       "      <th>Long_Promotion</th>\n",
       "      <th>0</th>\n",
       "      <th>1</th>\n",
       "      <th>0</th>\n",
       "      <th>1</th>\n",
       "    </tr>\n",
       "    <tr>\n",
       "      <th>Course_Sales_Type</th>\n",
       "      <th></th>\n",
       "      <th></th>\n",
       "      <th></th>\n",
       "      <th></th>\n",
       "    </tr>\n",
       "  </thead>\n",
       "  <tbody>\n",
       "    <tr>\n",
       "      <th>Average Sales</th>\n",
       "      <td>0.157149</td>\n",
       "      <td>0.152837</td>\n",
       "      <td>0.096609</td>\n",
       "      <td>0.093586</td>\n",
       "    </tr>\n",
       "    <tr>\n",
       "      <th>Low Sales</th>\n",
       "      <td>0.060773</td>\n",
       "      <td>0.088450</td>\n",
       "      <td>0.037400</td>\n",
       "      <td>0.054061</td>\n",
       "    </tr>\n",
       "    <tr>\n",
       "      <th>Top Sales</th>\n",
       "      <td>0.098515</td>\n",
       "      <td>0.062032</td>\n",
       "      <td>0.060587</td>\n",
       "      <td>0.038001</td>\n",
       "    </tr>\n",
       "  </tbody>\n",
       "</table>\n",
       "</div>"
      ]
     },
     "metadata": {},
     "execution_count": 55
    }
   ],
   "metadata": {}
  },
  {
   "cell_type": "code",
   "execution_count": 36,
   "source": [
    "# Function to identify high or low Competition\r\n",
    "def competition_type(df):\r\n",
    "     Competition_Type = []\r\n",
    "     for i in df.Competition_Metric:\r\n",
    "          if (i > 0.094):\r\n",
    "               Competition_Type.append(\"High Competition\")\r\n",
    "          elif (i < 0.01):\r\n",
    "               Competition_Type.append(\"Low Competition\")\r\n",
    "          else:\r\n",
    "               Competition_Type.append(\"Average Competition\")    \r\n",
    "     return Competition_Type\r\n"
   ],
   "outputs": [],
   "metadata": {}
  },
  {
   "cell_type": "code",
   "execution_count": 37,
   "source": [
    "train_data[\"Competition_Type\"] = competition_type(train_data)\r\n",
    "test_data[\"Competition_Type\"] = competition_type(test_data)\r\n"
   ],
   "outputs": [],
   "metadata": {}
  },
  {
   "cell_type": "code",
   "execution_count": 58,
   "source": [
    "train_data.tail()"
   ],
   "outputs": [
    {
     "output_type": "execute_result",
     "data": {
      "text/plain": [
       "            ID  Day_No  Course_ID       Course_Domain Course_Type  \\\n",
       "512082  548023     878        600  Software Marketing     Program   \n",
       "512083  548024     879        600  Software Marketing     Program   \n",
       "512084  548025     880        600  Software Marketing     Program   \n",
       "512085  548026     881        600  Software Marketing     Program   \n",
       "512086  548027     882        600  Software Marketing     Program   \n",
       "\n",
       "       Short_Promotion Public_Holiday Long_Promotion  User_Traffic  \\\n",
       "512082               0              0              1          8904   \n",
       "512083               0              0              1         10542   \n",
       "512084               0              0              1         13671   \n",
       "512085               0              0              1          8904   \n",
       "512086               1              0              1         11445   \n",
       "\n",
       "        Competition_Metric  Sales  Year  Day       Date Month  WeekofYear  \\\n",
       "512082                0.07    114  2018  147 2018-05-27     5          21   \n",
       "512083                0.07    145  2018  148 2018-05-28     5          22   \n",
       "512084                0.07    167  2018  149 2018-05-29     5          22   \n",
       "512085                0.07    107  2018  150 2018-05-30     5          22   \n",
       "512086                0.07    152  2018  151 2018-05-31     5          22   \n",
       "\n",
       "       MonthYear  Course_avg_sales Course_Sales_Type     Competition_Type  \n",
       "512082    5-2018        109.198413     Average Sales  Average Competition  \n",
       "512083    5-2018        109.198413     Average Sales  Average Competition  \n",
       "512084    5-2018        109.198413     Average Sales  Average Competition  \n",
       "512085    5-2018        109.198413     Average Sales  Average Competition  \n",
       "512086    5-2018        109.198413     Average Sales  Average Competition  "
      ],
      "text/html": [
       "<div>\n",
       "<style scoped>\n",
       "    .dataframe tbody tr th:only-of-type {\n",
       "        vertical-align: middle;\n",
       "    }\n",
       "\n",
       "    .dataframe tbody tr th {\n",
       "        vertical-align: top;\n",
       "    }\n",
       "\n",
       "    .dataframe thead th {\n",
       "        text-align: right;\n",
       "    }\n",
       "</style>\n",
       "<table border=\"1\" class=\"dataframe\">\n",
       "  <thead>\n",
       "    <tr style=\"text-align: right;\">\n",
       "      <th></th>\n",
       "      <th>ID</th>\n",
       "      <th>Day_No</th>\n",
       "      <th>Course_ID</th>\n",
       "      <th>Course_Domain</th>\n",
       "      <th>Course_Type</th>\n",
       "      <th>Short_Promotion</th>\n",
       "      <th>Public_Holiday</th>\n",
       "      <th>Long_Promotion</th>\n",
       "      <th>User_Traffic</th>\n",
       "      <th>Competition_Metric</th>\n",
       "      <th>Sales</th>\n",
       "      <th>Year</th>\n",
       "      <th>Day</th>\n",
       "      <th>Date</th>\n",
       "      <th>Month</th>\n",
       "      <th>WeekofYear</th>\n",
       "      <th>MonthYear</th>\n",
       "      <th>Course_avg_sales</th>\n",
       "      <th>Course_Sales_Type</th>\n",
       "      <th>Competition_Type</th>\n",
       "    </tr>\n",
       "  </thead>\n",
       "  <tbody>\n",
       "    <tr>\n",
       "      <th>512082</th>\n",
       "      <td>548023</td>\n",
       "      <td>878</td>\n",
       "      <td>600</td>\n",
       "      <td>Software Marketing</td>\n",
       "      <td>Program</td>\n",
       "      <td>0</td>\n",
       "      <td>0</td>\n",
       "      <td>1</td>\n",
       "      <td>8904</td>\n",
       "      <td>0.07</td>\n",
       "      <td>114</td>\n",
       "      <td>2018</td>\n",
       "      <td>147</td>\n",
       "      <td>2018-05-27</td>\n",
       "      <td>5</td>\n",
       "      <td>21</td>\n",
       "      <td>5-2018</td>\n",
       "      <td>109.198413</td>\n",
       "      <td>Average Sales</td>\n",
       "      <td>Average Competition</td>\n",
       "    </tr>\n",
       "    <tr>\n",
       "      <th>512083</th>\n",
       "      <td>548024</td>\n",
       "      <td>879</td>\n",
       "      <td>600</td>\n",
       "      <td>Software Marketing</td>\n",
       "      <td>Program</td>\n",
       "      <td>0</td>\n",
       "      <td>0</td>\n",
       "      <td>1</td>\n",
       "      <td>10542</td>\n",
       "      <td>0.07</td>\n",
       "      <td>145</td>\n",
       "      <td>2018</td>\n",
       "      <td>148</td>\n",
       "      <td>2018-05-28</td>\n",
       "      <td>5</td>\n",
       "      <td>22</td>\n",
       "      <td>5-2018</td>\n",
       "      <td>109.198413</td>\n",
       "      <td>Average Sales</td>\n",
       "      <td>Average Competition</td>\n",
       "    </tr>\n",
       "    <tr>\n",
       "      <th>512084</th>\n",
       "      <td>548025</td>\n",
       "      <td>880</td>\n",
       "      <td>600</td>\n",
       "      <td>Software Marketing</td>\n",
       "      <td>Program</td>\n",
       "      <td>0</td>\n",
       "      <td>0</td>\n",
       "      <td>1</td>\n",
       "      <td>13671</td>\n",
       "      <td>0.07</td>\n",
       "      <td>167</td>\n",
       "      <td>2018</td>\n",
       "      <td>149</td>\n",
       "      <td>2018-05-29</td>\n",
       "      <td>5</td>\n",
       "      <td>22</td>\n",
       "      <td>5-2018</td>\n",
       "      <td>109.198413</td>\n",
       "      <td>Average Sales</td>\n",
       "      <td>Average Competition</td>\n",
       "    </tr>\n",
       "    <tr>\n",
       "      <th>512085</th>\n",
       "      <td>548026</td>\n",
       "      <td>881</td>\n",
       "      <td>600</td>\n",
       "      <td>Software Marketing</td>\n",
       "      <td>Program</td>\n",
       "      <td>0</td>\n",
       "      <td>0</td>\n",
       "      <td>1</td>\n",
       "      <td>8904</td>\n",
       "      <td>0.07</td>\n",
       "      <td>107</td>\n",
       "      <td>2018</td>\n",
       "      <td>150</td>\n",
       "      <td>2018-05-30</td>\n",
       "      <td>5</td>\n",
       "      <td>22</td>\n",
       "      <td>5-2018</td>\n",
       "      <td>109.198413</td>\n",
       "      <td>Average Sales</td>\n",
       "      <td>Average Competition</td>\n",
       "    </tr>\n",
       "    <tr>\n",
       "      <th>512086</th>\n",
       "      <td>548027</td>\n",
       "      <td>882</td>\n",
       "      <td>600</td>\n",
       "      <td>Software Marketing</td>\n",
       "      <td>Program</td>\n",
       "      <td>1</td>\n",
       "      <td>0</td>\n",
       "      <td>1</td>\n",
       "      <td>11445</td>\n",
       "      <td>0.07</td>\n",
       "      <td>152</td>\n",
       "      <td>2018</td>\n",
       "      <td>151</td>\n",
       "      <td>2018-05-31</td>\n",
       "      <td>5</td>\n",
       "      <td>22</td>\n",
       "      <td>5-2018</td>\n",
       "      <td>109.198413</td>\n",
       "      <td>Average Sales</td>\n",
       "      <td>Average Competition</td>\n",
       "    </tr>\n",
       "  </tbody>\n",
       "</table>\n",
       "</div>"
      ]
     },
     "metadata": {},
     "execution_count": 58
    }
   ],
   "metadata": {}
  },
  {
   "cell_type": "code",
   "execution_count": 59,
   "source": [
    "test_data.head()"
   ],
   "outputs": [
    {
     "output_type": "execute_result",
     "data": {
      "text/plain": [
       "    ID  Day_No  Course_ID Course_Domain Course_Type Short_Promotion  \\\n",
       "0  883     883          1   Development      Course               1   \n",
       "1  884     884          1   Development      Course               1   \n",
       "2  885     885          1   Development      Course               1   \n",
       "3  886     886          1   Development      Course               1   \n",
       "4  887     887          1   Development      Course               0   \n",
       "\n",
       "  Public_Holiday Long_Promotion  Competition_Metric  Year  Day       Date  \\\n",
       "0              0              1               0.007  2018  152 2018-06-01   \n",
       "1              0              1               0.007  2018  153 2018-06-02   \n",
       "2              0              1               0.007  2018  154 2018-06-03   \n",
       "3              0              1               0.007  2018  155 2018-06-04   \n",
       "4              0              1               0.007  2018  156 2018-06-05   \n",
       "\n",
       "  Month  WeekofYear MonthYear  Course_avg_sales Course_Sales_Type  \\\n",
       "0     6          22    6-2018         85.251701         Low Sales   \n",
       "1     6          22    6-2018         85.251701         Low Sales   \n",
       "2     6          22    6-2018         85.251701         Low Sales   \n",
       "3     6          23    6-2018         85.251701         Low Sales   \n",
       "4     6          23    6-2018         85.251701         Low Sales   \n",
       "\n",
       "  Competition_Type  \n",
       "0  Low Competition  \n",
       "1  Low Competition  \n",
       "2  Low Competition  \n",
       "3  Low Competition  \n",
       "4  Low Competition  "
      ],
      "text/html": [
       "<div>\n",
       "<style scoped>\n",
       "    .dataframe tbody tr th:only-of-type {\n",
       "        vertical-align: middle;\n",
       "    }\n",
       "\n",
       "    .dataframe tbody tr th {\n",
       "        vertical-align: top;\n",
       "    }\n",
       "\n",
       "    .dataframe thead th {\n",
       "        text-align: right;\n",
       "    }\n",
       "</style>\n",
       "<table border=\"1\" class=\"dataframe\">\n",
       "  <thead>\n",
       "    <tr style=\"text-align: right;\">\n",
       "      <th></th>\n",
       "      <th>ID</th>\n",
       "      <th>Day_No</th>\n",
       "      <th>Course_ID</th>\n",
       "      <th>Course_Domain</th>\n",
       "      <th>Course_Type</th>\n",
       "      <th>Short_Promotion</th>\n",
       "      <th>Public_Holiday</th>\n",
       "      <th>Long_Promotion</th>\n",
       "      <th>Competition_Metric</th>\n",
       "      <th>Year</th>\n",
       "      <th>Day</th>\n",
       "      <th>Date</th>\n",
       "      <th>Month</th>\n",
       "      <th>WeekofYear</th>\n",
       "      <th>MonthYear</th>\n",
       "      <th>Course_avg_sales</th>\n",
       "      <th>Course_Sales_Type</th>\n",
       "      <th>Competition_Type</th>\n",
       "    </tr>\n",
       "  </thead>\n",
       "  <tbody>\n",
       "    <tr>\n",
       "      <th>0</th>\n",
       "      <td>883</td>\n",
       "      <td>883</td>\n",
       "      <td>1</td>\n",
       "      <td>Development</td>\n",
       "      <td>Course</td>\n",
       "      <td>1</td>\n",
       "      <td>0</td>\n",
       "      <td>1</td>\n",
       "      <td>0.007</td>\n",
       "      <td>2018</td>\n",
       "      <td>152</td>\n",
       "      <td>2018-06-01</td>\n",
       "      <td>6</td>\n",
       "      <td>22</td>\n",
       "      <td>6-2018</td>\n",
       "      <td>85.251701</td>\n",
       "      <td>Low Sales</td>\n",
       "      <td>Low Competition</td>\n",
       "    </tr>\n",
       "    <tr>\n",
       "      <th>1</th>\n",
       "      <td>884</td>\n",
       "      <td>884</td>\n",
       "      <td>1</td>\n",
       "      <td>Development</td>\n",
       "      <td>Course</td>\n",
       "      <td>1</td>\n",
       "      <td>0</td>\n",
       "      <td>1</td>\n",
       "      <td>0.007</td>\n",
       "      <td>2018</td>\n",
       "      <td>153</td>\n",
       "      <td>2018-06-02</td>\n",
       "      <td>6</td>\n",
       "      <td>22</td>\n",
       "      <td>6-2018</td>\n",
       "      <td>85.251701</td>\n",
       "      <td>Low Sales</td>\n",
       "      <td>Low Competition</td>\n",
       "    </tr>\n",
       "    <tr>\n",
       "      <th>2</th>\n",
       "      <td>885</td>\n",
       "      <td>885</td>\n",
       "      <td>1</td>\n",
       "      <td>Development</td>\n",
       "      <td>Course</td>\n",
       "      <td>1</td>\n",
       "      <td>0</td>\n",
       "      <td>1</td>\n",
       "      <td>0.007</td>\n",
       "      <td>2018</td>\n",
       "      <td>154</td>\n",
       "      <td>2018-06-03</td>\n",
       "      <td>6</td>\n",
       "      <td>22</td>\n",
       "      <td>6-2018</td>\n",
       "      <td>85.251701</td>\n",
       "      <td>Low Sales</td>\n",
       "      <td>Low Competition</td>\n",
       "    </tr>\n",
       "    <tr>\n",
       "      <th>3</th>\n",
       "      <td>886</td>\n",
       "      <td>886</td>\n",
       "      <td>1</td>\n",
       "      <td>Development</td>\n",
       "      <td>Course</td>\n",
       "      <td>1</td>\n",
       "      <td>0</td>\n",
       "      <td>1</td>\n",
       "      <td>0.007</td>\n",
       "      <td>2018</td>\n",
       "      <td>155</td>\n",
       "      <td>2018-06-04</td>\n",
       "      <td>6</td>\n",
       "      <td>23</td>\n",
       "      <td>6-2018</td>\n",
       "      <td>85.251701</td>\n",
       "      <td>Low Sales</td>\n",
       "      <td>Low Competition</td>\n",
       "    </tr>\n",
       "    <tr>\n",
       "      <th>4</th>\n",
       "      <td>887</td>\n",
       "      <td>887</td>\n",
       "      <td>1</td>\n",
       "      <td>Development</td>\n",
       "      <td>Course</td>\n",
       "      <td>0</td>\n",
       "      <td>0</td>\n",
       "      <td>1</td>\n",
       "      <td>0.007</td>\n",
       "      <td>2018</td>\n",
       "      <td>156</td>\n",
       "      <td>2018-06-05</td>\n",
       "      <td>6</td>\n",
       "      <td>23</td>\n",
       "      <td>6-2018</td>\n",
       "      <td>85.251701</td>\n",
       "      <td>Low Sales</td>\n",
       "      <td>Low Competition</td>\n",
       "    </tr>\n",
       "  </tbody>\n",
       "</table>\n",
       "</div>"
      ]
     },
     "metadata": {},
     "execution_count": 59
    }
   ],
   "metadata": {}
  },
  {
   "cell_type": "markdown",
   "source": [
    "# Dimensionality Reduction\r\n"
   ],
   "metadata": {}
  },
  {
   "cell_type": "markdown",
   "source": [],
   "metadata": {}
  },
  {
   "cell_type": "code",
   "execution_count": 38,
   "source": [
    "update_train_data = train_data.copy()\r\n",
    "update_test_data = test_data.copy()"
   ],
   "outputs": [],
   "metadata": {}
  },
  {
   "cell_type": "markdown",
   "source": [
    "### Drop Columns not needed"
   ],
   "metadata": {}
  },
  {
   "cell_type": "code",
   "execution_count": 39,
   "source": [
    "update_train_data.drop(['ID', 'Day_No', 'User_Traffic', 'Date', 'MonthYear'], axis=1, inplace=True)\r\n",
    "update_test_data.drop(['ID', 'Day_No', 'Date', 'MonthYear'], axis=1, inplace=True)"
   ],
   "outputs": [],
   "metadata": {}
  },
  {
   "cell_type": "code",
   "execution_count": 159,
   "source": [
    "#update_train_data.drop(update_train_data[update_train_data.Competition_Metric.isnull()].index, axis=0, inplace=True)"
   ],
   "outputs": [],
   "metadata": {}
  },
  {
   "cell_type": "code",
   "execution_count": 40,
   "source": [
    "update_train_data.Course_Sales_Type = update_train_data.Course_Sales_Type.astype(\"category\")\r\n",
    "update_test_data.Course_Sales_Type = update_test_data.Course_Sales_Type.astype(\"category\")\r\n",
    "\r\n",
    "update_train_data.WeekofYear = update_train_data.WeekofYear.astype(\"int64\")\r\n",
    "update_test_data.WeekofYear = update_test_data.WeekofYear.astype(\"int64\")\r\n"
   ],
   "outputs": [],
   "metadata": {}
  },
  {
   "cell_type": "code",
   "execution_count": 41,
   "source": [
    "update_numeric_columns = update_train_data.select_dtypes(include = ['int64', 'float64'])\r\n",
    "update_category_columns = update_train_data.select_dtypes(include = ['category'])\r\n"
   ],
   "outputs": [],
   "metadata": {}
  },
  {
   "cell_type": "code",
   "execution_count": 42,
   "source": [
    "update_numeric_columns.drop('Sales', axis=1, inplace=True)"
   ],
   "outputs": [],
   "metadata": {}
  },
  {
   "cell_type": "markdown",
   "source": [
    "### Handling Skewness"
   ],
   "metadata": {}
  },
  {
   "cell_type": "code",
   "execution_count": 163,
   "source": [
    "sns.kdeplot(update_train_data[\"Competition_Metric\"], shade=True)"
   ],
   "outputs": [
    {
     "output_type": "execute_result",
     "data": {
      "text/plain": [
       "<AxesSubplot:xlabel='Competition_Metric', ylabel='Density'>"
      ]
     },
     "metadata": {},
     "execution_count": 163
    },
    {
     "output_type": "display_data",
     "data": {
      "text/plain": [
       "<Figure size 432x288 with 1 Axes>"
      ],
      "image/png": "[encoded data removed]"
     },
     "metadata": {
      "needs_background": "light"
     }
    }
   ],
   "metadata": {}
  },
  {
   "cell_type": "code",
   "execution_count": 43,
   "source": [
    "#from numpy import exp\r\n",
    "update_train_data[\"Competition_Metric\"] = np.cbrt(update_train_data.Competition_Metric)\r\n",
    "update_test_data[\"Competition_Metric\"] = np.cbrt(update_test_data.Competition_Metric)"
   ],
   "outputs": [],
   "metadata": {}
  },
  {
   "cell_type": "code",
   "execution_count": 44,
   "source": [
    "# Plot a comparison\r\n",
    "fig, axs = plt.subplots(1, 2, figsize=(8, 4))\r\n",
    "sns.kdeplot(update_train_data[\"Competition_Metric\"], shade=True, ax=axs[0])\r\n",
    "sns.kdeplot(update_test_data[\"Competition_Metric\"], shade=True, ax=axs[1])\r\n"
   ],
   "outputs": [
    {
     "output_type": "execute_result",
     "data": {
      "text/plain": [
       "<AxesSubplot:xlabel='Competition_Metric', ylabel='Density'>"
      ]
     },
     "metadata": {},
     "execution_count": 44
    },
    {
     "output_type": "display_data",
     "data": {
      "text/plain": [
       "<Figure size 576x288 with 2 Axes>"
      ],
      "image/png": "[encoded data removed]"
     },
     "metadata": {
      "needs_background": "light"
     }
    }
   ],
   "metadata": {}
  },
  {
   "cell_type": "markdown",
   "source": [
    "### Scale numeric"
   ],
   "metadata": {}
  },
  {
   "cell_type": "code",
   "execution_count": 166,
   "source": [
    "update_numeric_columns.columns"
   ],
   "outputs": [
    {
     "output_type": "execute_result",
     "data": {
      "text/plain": [
       "Index(['Course_ID', 'Competition_Metric', 'Day', 'WeekofYear',\n",
       "       'Course_avg_sales'],\n",
       "      dtype='object')"
      ]
     },
     "metadata": {},
     "execution_count": 166
    }
   ],
   "metadata": {}
  },
  {
   "cell_type": "code",
   "execution_count": 45,
   "source": [
    "from sklearn.preprocessing import MinMaxScaler\r\n",
    "scalar = MinMaxScaler()\r\n",
    "scalar.fit(update_train_data[update_numeric_columns.columns])"
   ],
   "outputs": [
    {
     "output_type": "execute_result",
     "data": {
      "text/plain": [
       "MinMaxScaler()"
      ]
     },
     "metadata": {},
     "execution_count": 45
    }
   ],
   "metadata": {}
  },
  {
   "cell_type": "code",
   "execution_count": 46,
   "source": [
    "update_train_data[update_numeric_columns.columns] = scalar.transform(update_train_data[update_numeric_columns.columns])\r\n",
    "update_test_data[update_numeric_columns.columns] = scalar.transform(update_test_data[update_numeric_columns.columns])\r\n"
   ],
   "outputs": [],
   "metadata": {}
  },
  {
   "cell_type": "code",
   "execution_count": 47,
   "source": [
    "update_train_data[update_numeric_columns.columns].describe()"
   ],
   "outputs": [
    {
     "output_type": "execute_result",
     "data": {
      "text/plain": [
       "           Course_ID  Competition_Metric            Day     WeekofYear  \\\n",
       "count  512087.000000       512087.000000  512087.000000  512087.000000   \n",
       "mean        0.499814            0.375524       0.439160       0.432261   \n",
       "std         0.289425            0.186425       0.288175       0.289056   \n",
       "min         0.000000            0.000000       0.000000       0.000000   \n",
       "25%         0.248748            0.235259       0.194521       0.192308   \n",
       "50%         0.499165            0.357192       0.389041       0.384615   \n",
       "75%         0.751252            0.496503       0.682192       0.673077   \n",
       "max         1.000000            1.000000       1.000000       1.000000   \n",
       "\n",
       "       Course_avg_sales  \n",
       "count     512087.000000  \n",
       "mean           0.245709  \n",
       "std            0.141972  \n",
       "min            0.000000  \n",
       "25%            0.147377  \n",
       "50%            0.223012  \n",
       "75%            0.309273  \n",
       "max            1.000000  "
      ],
      "text/html": [
       "<div>\n",
       "<style scoped>\n",
       "    .dataframe tbody tr th:only-of-type {\n",
       "        vertical-align: middle;\n",
       "    }\n",
       "\n",
       "    .dataframe tbody tr th {\n",
       "        vertical-align: top;\n",
       "    }\n",
       "\n",
       "    .dataframe thead th {\n",
       "        text-align: right;\n",
       "    }\n",
       "</style>\n",
       "<table border=\"1\" class=\"dataframe\">\n",
       "  <thead>\n",
       "    <tr style=\"text-align: right;\">\n",
       "      <th></th>\n",
       "      <th>Course_ID</th>\n",
       "      <th>Competition_Metric</th>\n",
       "      <th>Day</th>\n",
       "      <th>WeekofYear</th>\n",
       "      <th>Course_avg_sales</th>\n",
       "    </tr>\n",
       "  </thead>\n",
       "  <tbody>\n",
       "    <tr>\n",
       "      <th>count</th>\n",
       "      <td>512087.000000</td>\n",
       "      <td>512087.000000</td>\n",
       "      <td>512087.000000</td>\n",
       "      <td>512087.000000</td>\n",
       "      <td>512087.000000</td>\n",
       "    </tr>\n",
       "    <tr>\n",
       "      <th>mean</th>\n",
       "      <td>0.499814</td>\n",
       "      <td>0.375524</td>\n",
       "      <td>0.439160</td>\n",
       "      <td>0.432261</td>\n",
       "      <td>0.245709</td>\n",
       "    </tr>\n",
       "    <tr>\n",
       "      <th>std</th>\n",
       "      <td>0.289425</td>\n",
       "      <td>0.186425</td>\n",
       "      <td>0.288175</td>\n",
       "      <td>0.289056</td>\n",
       "      <td>0.141972</td>\n",
       "    </tr>\n",
       "    <tr>\n",
       "      <th>min</th>\n",
       "      <td>0.000000</td>\n",
       "      <td>0.000000</td>\n",
       "      <td>0.000000</td>\n",
       "      <td>0.000000</td>\n",
       "      <td>0.000000</td>\n",
       "    </tr>\n",
       "    <tr>\n",
       "      <th>25%</th>\n",
       "      <td>0.248748</td>\n",
       "      <td>0.235259</td>\n",
       "      <td>0.194521</td>\n",
       "      <td>0.192308</td>\n",
       "      <td>0.147377</td>\n",
       "    </tr>\n",
       "    <tr>\n",
       "      <th>50%</th>\n",
       "      <td>0.499165</td>\n",
       "      <td>0.357192</td>\n",
       "      <td>0.389041</td>\n",
       "      <td>0.384615</td>\n",
       "      <td>0.223012</td>\n",
       "    </tr>\n",
       "    <tr>\n",
       "      <th>75%</th>\n",
       "      <td>0.751252</td>\n",
       "      <td>0.496503</td>\n",
       "      <td>0.682192</td>\n",
       "      <td>0.673077</td>\n",
       "      <td>0.309273</td>\n",
       "    </tr>\n",
       "    <tr>\n",
       "      <th>max</th>\n",
       "      <td>1.000000</td>\n",
       "      <td>1.000000</td>\n",
       "      <td>1.000000</td>\n",
       "      <td>1.000000</td>\n",
       "      <td>1.000000</td>\n",
       "    </tr>\n",
       "  </tbody>\n",
       "</table>\n",
       "</div>"
      ]
     },
     "metadata": {},
     "execution_count": 47
    }
   ],
   "metadata": {}
  },
  {
   "cell_type": "code",
   "execution_count": 48,
   "source": [
    "update_test_data[update_numeric_columns.columns].describe()"
   ],
   "outputs": [
    {
     "output_type": "execute_result",
     "data": {
      "text/plain": [
       "          Course_ID  Competition_Metric           Day    WeekofYear  \\\n",
       "count  36000.000000        36000.000000  36000.000000  36000.000000   \n",
       "mean       0.500000            0.375134      0.494521      0.487500   \n",
       "std        0.289161            0.185706      0.047448      0.047991   \n",
       "min        0.000000            0.000000      0.413699      0.403846   \n",
       "25%        0.250000            0.235259      0.454110      0.442308   \n",
       "50%        0.500000            0.353758      0.494521      0.480769   \n",
       "75%        0.750000            0.493843      0.534932      0.524038   \n",
       "max        1.000000            1.000000      0.575342      0.576923   \n",
       "\n",
       "       Course_avg_sales  \n",
       "count      36000.000000  \n",
       "mean           0.244524  \n",
       "std            0.141151  \n",
       "min            0.000000  \n",
       "25%            0.147120  \n",
       "50%            0.221555  \n",
       "75%            0.308224  \n",
       "max            1.000000  "
      ],
      "text/html": [
       "<div>\n",
       "<style scoped>\n",
       "    .dataframe tbody tr th:only-of-type {\n",
       "        vertical-align: middle;\n",
       "    }\n",
       "\n",
       "    .dataframe tbody tr th {\n",
       "        vertical-align: top;\n",
       "    }\n",
       "\n",
       "    .dataframe thead th {\n",
       "        text-align: right;\n",
       "    }\n",
       "</style>\n",
       "<table border=\"1\" class=\"dataframe\">\n",
       "  <thead>\n",
       "    <tr style=\"text-align: right;\">\n",
       "      <th></th>\n",
       "      <th>Course_ID</th>\n",
       "      <th>Competition_Metric</th>\n",
       "      <th>Day</th>\n",
       "      <th>WeekofYear</th>\n",
       "      <th>Course_avg_sales</th>\n",
       "    </tr>\n",
       "  </thead>\n",
       "  <tbody>\n",
       "    <tr>\n",
       "      <th>count</th>\n",
       "      <td>36000.000000</td>\n",
       "      <td>36000.000000</td>\n",
       "      <td>36000.000000</td>\n",
       "      <td>36000.000000</td>\n",
       "      <td>36000.000000</td>\n",
       "    </tr>\n",
       "    <tr>\n",
       "      <th>mean</th>\n",
       "      <td>0.500000</td>\n",
       "      <td>0.375134</td>\n",
       "      <td>0.494521</td>\n",
       "      <td>0.487500</td>\n",
       "      <td>0.244524</td>\n",
       "    </tr>\n",
       "    <tr>\n",
       "      <th>std</th>\n",
       "      <td>0.289161</td>\n",
       "      <td>0.185706</td>\n",
       "      <td>0.047448</td>\n",
       "      <td>0.047991</td>\n",
       "      <td>0.141151</td>\n",
       "    </tr>\n",
       "    <tr>\n",
       "      <th>min</th>\n",
       "      <td>0.000000</td>\n",
       "      <td>0.000000</td>\n",
       "      <td>0.413699</td>\n",
       "      <td>0.403846</td>\n",
       "      <td>0.000000</td>\n",
       "    </tr>\n",
       "    <tr>\n",
       "      <th>25%</th>\n",
       "      <td>0.250000</td>\n",
       "      <td>0.235259</td>\n",
       "      <td>0.454110</td>\n",
       "      <td>0.442308</td>\n",
       "      <td>0.147120</td>\n",
       "    </tr>\n",
       "    <tr>\n",
       "      <th>50%</th>\n",
       "      <td>0.500000</td>\n",
       "      <td>0.353758</td>\n",
       "      <td>0.494521</td>\n",
       "      <td>0.480769</td>\n",
       "      <td>0.221555</td>\n",
       "    </tr>\n",
       "    <tr>\n",
       "      <th>75%</th>\n",
       "      <td>0.750000</td>\n",
       "      <td>0.493843</td>\n",
       "      <td>0.534932</td>\n",
       "      <td>0.524038</td>\n",
       "      <td>0.308224</td>\n",
       "    </tr>\n",
       "    <tr>\n",
       "      <th>max</th>\n",
       "      <td>1.000000</td>\n",
       "      <td>1.000000</td>\n",
       "      <td>0.575342</td>\n",
       "      <td>0.576923</td>\n",
       "      <td>1.000000</td>\n",
       "    </tr>\n",
       "  </tbody>\n",
       "</table>\n",
       "</div>"
      ]
     },
     "metadata": {},
     "execution_count": 48
    }
   ],
   "metadata": {}
  },
  {
   "cell_type": "markdown",
   "source": [
    "### Encode Categorical Data"
   ],
   "metadata": {}
  },
  {
   "cell_type": "code",
   "execution_count": 49,
   "source": [
    "from sklearn.preprocessing import OneHotEncoder"
   ],
   "outputs": [],
   "metadata": {}
  },
  {
   "cell_type": "code",
   "execution_count": 50,
   "source": [
    "onehotencode_columns = ['Course_Domain', 'Course_Type']\r\n",
    "ordinalencode_columns = ['Year',  'Course_Sales_Type', 'Competition_Type']"
   ],
   "outputs": [],
   "metadata": {}
  },
  {
   "cell_type": "code",
   "execution_count": 51,
   "source": [
    "onehotencode = OneHotEncoder(sparse=False, handle_unknown='ignore')\r\n",
    "\r\n",
    "onehotencode.fit(update_train_data[onehotencode_columns])\r\n"
   ],
   "outputs": [
    {
     "output_type": "execute_result",
     "data": {
      "text/plain": [
       "OneHotEncoder(handle_unknown='ignore', sparse=False)"
      ]
     },
     "metadata": {},
     "execution_count": 51
    }
   ],
   "metadata": {}
  },
  {
   "cell_type": "code",
   "execution_count": 52,
   "source": [
    "encoded_cols = list(onehotencode.get_feature_names(onehotencode_columns))"
   ],
   "outputs": [],
   "metadata": {}
  },
  {
   "cell_type": "code",
   "execution_count": 53,
   "source": [
    "update_train_data[encoded_cols] = onehotencode.transform(update_train_data[onehotencode_columns])\r\n",
    "update_test_data[encoded_cols] = onehotencode.transform(update_test_data[onehotencode_columns])"
   ],
   "outputs": [],
   "metadata": {}
  },
  {
   "cell_type": "code",
   "execution_count": 54,
   "source": [
    "update_train_data.drop(['Course_Domain', 'Course_Type'], axis=1, inplace=True)\r\n",
    "update_test_data.drop(['Course_Domain', 'Course_Type'], axis=1, inplace=True)"
   ],
   "outputs": [],
   "metadata": {}
  },
  {
   "cell_type": "markdown",
   "source": [
    "## Ordinal Encoding"
   ],
   "metadata": {}
  },
  {
   "cell_type": "code",
   "execution_count": 55,
   "source": [
    "year_mapper = {\"2016\":1, \"2017\":2, \"2018\":3}\r\n",
    "course_Salestype_mapper = {\"Low Sales\":1, \"Average Sales\":2, \"Top Sales\":3}\r\n",
    "competition_mapper = {\"Low Competition\":1, \"Average Competition\":2, \"High Competition\":3}"
   ],
   "outputs": [],
   "metadata": {}
  },
  {
   "cell_type": "code",
   "execution_count": 56,
   "source": [
    "update_train_data[\"Year\"] = update_train_data[\"Year\"].replace(year_mapper)\r\n",
    "update_train_data[\"Course_Sales_Type\"] = update_train_data[\"Course_Sales_Type\"].replace(course_Salestype_mapper)\r\n",
    "update_train_data[\"Competition_Type\"] = update_train_data[\"Competition_Type\"].replace(competition_mapper)\r\n",
    "\r\n",
    "\r\n",
    "update_test_data[\"Year\"] = update_test_data[\"Year\"].replace(year_mapper)\r\n",
    "update_test_data[\"Course_Sales_Type\"] = update_test_data[\"Course_Sales_Type\"].replace(course_Salestype_mapper)\r\n",
    "update_test_data[\"Competition_Type\"] = update_test_data[\"Competition_Type\"].replace(competition_mapper)"
   ],
   "outputs": [],
   "metadata": {}
  },
  {
   "cell_type": "code",
   "execution_count": 57,
   "source": [
    "update_test_data.head()"
   ],
   "outputs": [
    {
     "output_type": "execute_result",
     "data": {
      "text/plain": [
       "   Course_ID Short_Promotion Public_Holiday Long_Promotion  \\\n",
       "0        0.0               1              0              1   \n",
       "1        0.0               1              0              1   \n",
       "2        0.0               1              0              1   \n",
       "3        0.0               1              0              1   \n",
       "4        0.0               0              0              1   \n",
       "\n",
       "   Competition_Metric  Year       Day Month  WeekofYear  Course_avg_sales  \\\n",
       "0            0.208887     3  0.413699     6    0.403846          0.121949   \n",
       "1            0.208887     3  0.416438     6    0.403846          0.121949   \n",
       "2            0.208887     3  0.419178     6    0.403846          0.121949   \n",
       "3            0.208887     3  0.421918     6    0.423077          0.121949   \n",
       "4            0.208887     3  0.424658     6    0.423077          0.121949   \n",
       "\n",
       "   Course_Sales_Type  Competition_Type  Course_Domain_Business  \\\n",
       "0                  1                 1                     0.0   \n",
       "1                  1                 1                     0.0   \n",
       "2                  1                 1                     0.0   \n",
       "3                  1                 1                     0.0   \n",
       "4                  1                 1                     0.0   \n",
       "\n",
       "   Course_Domain_Development  Course_Domain_Finance & Accounting  \\\n",
       "0                        1.0                                 0.0   \n",
       "1                        1.0                                 0.0   \n",
       "2                        1.0                                 0.0   \n",
       "3                        1.0                                 0.0   \n",
       "4                        1.0                                 0.0   \n",
       "\n",
       "   Course_Domain_Software Marketing  Course_Type_Course  Course_Type_Degree  \\\n",
       "0                               0.0                 1.0                 0.0   \n",
       "1                               0.0                 1.0                 0.0   \n",
       "2                               0.0                 1.0                 0.0   \n",
       "3                               0.0                 1.0                 0.0   \n",
       "4                               0.0                 1.0                 0.0   \n",
       "\n",
       "   Course_Type_Program  \n",
       "0                  0.0  \n",
       "1                  0.0  \n",
       "2                  0.0  \n",
       "3                  0.0  \n",
       "4                  0.0  "
      ],
      "text/html": [
       "<div>\n",
       "<style scoped>\n",
       "    .dataframe tbody tr th:only-of-type {\n",
       "        vertical-align: middle;\n",
       "    }\n",
       "\n",
       "    .dataframe tbody tr th {\n",
       "        vertical-align: top;\n",
       "    }\n",
       "\n",
       "    .dataframe thead th {\n",
       "        text-align: right;\n",
       "    }\n",
       "</style>\n",
       "<table border=\"1\" class=\"dataframe\">\n",
       "  <thead>\n",
       "    <tr style=\"text-align: right;\">\n",
       "      <th></th>\n",
       "      <th>Course_ID</th>\n",
       "      <th>Short_Promotion</th>\n",
       "      <th>Public_Holiday</th>\n",
       "      <th>Long_Promotion</th>\n",
       "      <th>Competition_Metric</th>\n",
       "      <th>Year</th>\n",
       "      <th>Day</th>\n",
       "      <th>Month</th>\n",
       "      <th>WeekofYear</th>\n",
       "      <th>Course_avg_sales</th>\n",
       "      <th>Course_Sales_Type</th>\n",
       "      <th>Competition_Type</th>\n",
       "      <th>Course_Domain_Business</th>\n",
       "      <th>Course_Domain_Development</th>\n",
       "      <th>Course_Domain_Finance &amp; Accounting</th>\n",
       "      <th>Course_Domain_Software Marketing</th>\n",
       "      <th>Course_Type_Course</th>\n",
       "      <th>Course_Type_Degree</th>\n",
       "      <th>Course_Type_Program</th>\n",
       "    </tr>\n",
       "  </thead>\n",
       "  <tbody>\n",
       "    <tr>\n",
       "      <th>0</th>\n",
       "      <td>0.0</td>\n",
       "      <td>1</td>\n",
       "      <td>0</td>\n",
       "      <td>1</td>\n",
       "      <td>0.208887</td>\n",
       "      <td>3</td>\n",
       "      <td>0.413699</td>\n",
       "      <td>6</td>\n",
       "      <td>0.403846</td>\n",
       "      <td>0.121949</td>\n",
       "      <td>1</td>\n",
       "      <td>1</td>\n",
       "      <td>0.0</td>\n",
       "      <td>1.0</td>\n",
       "      <td>0.0</td>\n",
       "      <td>0.0</td>\n",
       "      <td>1.0</td>\n",
       "      <td>0.0</td>\n",
       "      <td>0.0</td>\n",
       "    </tr>\n",
       "    <tr>\n",
       "      <th>1</th>\n",
       "      <td>0.0</td>\n",
       "      <td>1</td>\n",
       "      <td>0</td>\n",
       "      <td>1</td>\n",
       "      <td>0.208887</td>\n",
       "      <td>3</td>\n",
       "      <td>0.416438</td>\n",
       "      <td>6</td>\n",
       "      <td>0.403846</td>\n",
       "      <td>0.121949</td>\n",
       "      <td>1</td>\n",
       "      <td>1</td>\n",
       "      <td>0.0</td>\n",
       "      <td>1.0</td>\n",
       "      <td>0.0</td>\n",
       "      <td>0.0</td>\n",
       "      <td>1.0</td>\n",
       "      <td>0.0</td>\n",
       "      <td>0.0</td>\n",
       "    </tr>\n",
       "    <tr>\n",
       "      <th>2</th>\n",
       "      <td>0.0</td>\n",
       "      <td>1</td>\n",
       "      <td>0</td>\n",
       "      <td>1</td>\n",
       "      <td>0.208887</td>\n",
       "      <td>3</td>\n",
       "      <td>0.419178</td>\n",
       "      <td>6</td>\n",
       "      <td>0.403846</td>\n",
       "      <td>0.121949</td>\n",
       "      <td>1</td>\n",
       "      <td>1</td>\n",
       "      <td>0.0</td>\n",
       "      <td>1.0</td>\n",
       "      <td>0.0</td>\n",
       "      <td>0.0</td>\n",
       "      <td>1.0</td>\n",
       "      <td>0.0</td>\n",
       "      <td>0.0</td>\n",
       "    </tr>\n",
       "    <tr>\n",
       "      <th>3</th>\n",
       "      <td>0.0</td>\n",
       "      <td>1</td>\n",
       "      <td>0</td>\n",
       "      <td>1</td>\n",
       "      <td>0.208887</td>\n",
       "      <td>3</td>\n",
       "      <td>0.421918</td>\n",
       "      <td>6</td>\n",
       "      <td>0.423077</td>\n",
       "      <td>0.121949</td>\n",
       "      <td>1</td>\n",
       "      <td>1</td>\n",
       "      <td>0.0</td>\n",
       "      <td>1.0</td>\n",
       "      <td>0.0</td>\n",
       "      <td>0.0</td>\n",
       "      <td>1.0</td>\n",
       "      <td>0.0</td>\n",
       "      <td>0.0</td>\n",
       "    </tr>\n",
       "    <tr>\n",
       "      <th>4</th>\n",
       "      <td>0.0</td>\n",
       "      <td>0</td>\n",
       "      <td>0</td>\n",
       "      <td>1</td>\n",
       "      <td>0.208887</td>\n",
       "      <td>3</td>\n",
       "      <td>0.424658</td>\n",
       "      <td>6</td>\n",
       "      <td>0.423077</td>\n",
       "      <td>0.121949</td>\n",
       "      <td>1</td>\n",
       "      <td>1</td>\n",
       "      <td>0.0</td>\n",
       "      <td>1.0</td>\n",
       "      <td>0.0</td>\n",
       "      <td>0.0</td>\n",
       "      <td>1.0</td>\n",
       "      <td>0.0</td>\n",
       "      <td>0.0</td>\n",
       "    </tr>\n",
       "  </tbody>\n",
       "</table>\n",
       "</div>"
      ]
     },
     "metadata": {},
     "execution_count": 57
    }
   ],
   "metadata": {}
  },
  {
   "cell_type": "code",
   "execution_count": 58,
   "source": [
    "update_train_data.head()"
   ],
   "outputs": [
    {
     "output_type": "execute_result",
     "data": {
      "text/plain": [
       "   Course_ID Short_Promotion Public_Holiday Long_Promotion  \\\n",
       "0        0.0               0              1              1   \n",
       "1        0.0               0              0              1   \n",
       "2        0.0               0              0              1   \n",
       "3        0.0               0              0              1   \n",
       "4        0.0               0              0              1   \n",
       "\n",
       "   Competition_Metric  Sales  Year       Day Month  WeekofYear  \\\n",
       "0            0.208887     81     1  0.000000     1         1.0   \n",
       "1            0.208887     79     1  0.002740     1         1.0   \n",
       "2            0.208887     75     1  0.005479     1         1.0   \n",
       "3            0.208887     80     1  0.008219     1         0.0   \n",
       "4            0.208887     41     1  0.010959     1         0.0   \n",
       "\n",
       "   Course_avg_sales  Course_Sales_Type  Competition_Type  \\\n",
       "0          0.121949                  1                 1   \n",
       "1          0.121949                  1                 1   \n",
       "2          0.121949                  1                 1   \n",
       "3          0.121949                  1                 1   \n",
       "4          0.121949                  1                 1   \n",
       "\n",
       "   Course_Domain_Business  Course_Domain_Development  \\\n",
       "0                     0.0                        1.0   \n",
       "1                     0.0                        1.0   \n",
       "2                     0.0                        1.0   \n",
       "3                     0.0                        1.0   \n",
       "4                     0.0                        1.0   \n",
       "\n",
       "   Course_Domain_Finance & Accounting  Course_Domain_Software Marketing  \\\n",
       "0                                 0.0                               0.0   \n",
       "1                                 0.0                               0.0   \n",
       "2                                 0.0                               0.0   \n",
       "3                                 0.0                               0.0   \n",
       "4                                 0.0                               0.0   \n",
       "\n",
       "   Course_Type_Course  Course_Type_Degree  Course_Type_Program  \n",
       "0                 1.0                 0.0                  0.0  \n",
       "1                 1.0                 0.0                  0.0  \n",
       "2                 1.0                 0.0                  0.0  \n",
       "3                 1.0                 0.0                  0.0  \n",
       "4                 1.0                 0.0                  0.0  "
      ],
      "text/html": [
       "<div>\n",
       "<style scoped>\n",
       "    .dataframe tbody tr th:only-of-type {\n",
       "        vertical-align: middle;\n",
       "    }\n",
       "\n",
       "    .dataframe tbody tr th {\n",
       "        vertical-align: top;\n",
       "    }\n",
       "\n",
       "    .dataframe thead th {\n",
       "        text-align: right;\n",
       "    }\n",
       "</style>\n",
       "<table border=\"1\" class=\"dataframe\">\n",
       "  <thead>\n",
       "    <tr style=\"text-align: right;\">\n",
       "      <th></th>\n",
       "      <th>Course_ID</th>\n",
       "      <th>Short_Promotion</th>\n",
       "      <th>Public_Holiday</th>\n",
       "      <th>Long_Promotion</th>\n",
       "      <th>Competition_Metric</th>\n",
       "      <th>Sales</th>\n",
       "      <th>Year</th>\n",
       "      <th>Day</th>\n",
       "      <th>Month</th>\n",
       "      <th>WeekofYear</th>\n",
       "      <th>Course_avg_sales</th>\n",
       "      <th>Course_Sales_Type</th>\n",
       "      <th>Competition_Type</th>\n",
       "      <th>Course_Domain_Business</th>\n",
       "      <th>Course_Domain_Development</th>\n",
       "      <th>Course_Domain_Finance &amp; Accounting</th>\n",
       "      <th>Course_Domain_Software Marketing</th>\n",
       "      <th>Course_Type_Course</th>\n",
       "      <th>Course_Type_Degree</th>\n",
       "      <th>Course_Type_Program</th>\n",
       "    </tr>\n",
       "  </thead>\n",
       "  <tbody>\n",
       "    <tr>\n",
       "      <th>0</th>\n",
       "      <td>0.0</td>\n",
       "      <td>0</td>\n",
       "      <td>1</td>\n",
       "      <td>1</td>\n",
       "      <td>0.208887</td>\n",
       "      <td>81</td>\n",
       "      <td>1</td>\n",
       "      <td>0.000000</td>\n",
       "      <td>1</td>\n",
       "      <td>1.0</td>\n",
       "      <td>0.121949</td>\n",
       "      <td>1</td>\n",
       "      <td>1</td>\n",
       "      <td>0.0</td>\n",
       "      <td>1.0</td>\n",
       "      <td>0.0</td>\n",
       "      <td>0.0</td>\n",
       "      <td>1.0</td>\n",
       "      <td>0.0</td>\n",
       "      <td>0.0</td>\n",
       "    </tr>\n",
       "    <tr>\n",
       "      <th>1</th>\n",
       "      <td>0.0</td>\n",
       "      <td>0</td>\n",
       "      <td>0</td>\n",
       "      <td>1</td>\n",
       "      <td>0.208887</td>\n",
       "      <td>79</td>\n",
       "      <td>1</td>\n",
       "      <td>0.002740</td>\n",
       "      <td>1</td>\n",
       "      <td>1.0</td>\n",
       "      <td>0.121949</td>\n",
       "      <td>1</td>\n",
       "      <td>1</td>\n",
       "      <td>0.0</td>\n",
       "      <td>1.0</td>\n",
       "      <td>0.0</td>\n",
       "      <td>0.0</td>\n",
       "      <td>1.0</td>\n",
       "      <td>0.0</td>\n",
       "      <td>0.0</td>\n",
       "    </tr>\n",
       "    <tr>\n",
       "      <th>2</th>\n",
       "      <td>0.0</td>\n",
       "      <td>0</td>\n",
       "      <td>0</td>\n",
       "      <td>1</td>\n",
       "      <td>0.208887</td>\n",
       "      <td>75</td>\n",
       "      <td>1</td>\n",
       "      <td>0.005479</td>\n",
       "      <td>1</td>\n",
       "      <td>1.0</td>\n",
       "      <td>0.121949</td>\n",
       "      <td>1</td>\n",
       "      <td>1</td>\n",
       "      <td>0.0</td>\n",
       "      <td>1.0</td>\n",
       "      <td>0.0</td>\n",
       "      <td>0.0</td>\n",
       "      <td>1.0</td>\n",
       "      <td>0.0</td>\n",
       "      <td>0.0</td>\n",
       "    </tr>\n",
       "    <tr>\n",
       "      <th>3</th>\n",
       "      <td>0.0</td>\n",
       "      <td>0</td>\n",
       "      <td>0</td>\n",
       "      <td>1</td>\n",
       "      <td>0.208887</td>\n",
       "      <td>80</td>\n",
       "      <td>1</td>\n",
       "      <td>0.008219</td>\n",
       "      <td>1</td>\n",
       "      <td>0.0</td>\n",
       "      <td>0.121949</td>\n",
       "      <td>1</td>\n",
       "      <td>1</td>\n",
       "      <td>0.0</td>\n",
       "      <td>1.0</td>\n",
       "      <td>0.0</td>\n",
       "      <td>0.0</td>\n",
       "      <td>1.0</td>\n",
       "      <td>0.0</td>\n",
       "      <td>0.0</td>\n",
       "    </tr>\n",
       "    <tr>\n",
       "      <th>4</th>\n",
       "      <td>0.0</td>\n",
       "      <td>0</td>\n",
       "      <td>0</td>\n",
       "      <td>1</td>\n",
       "      <td>0.208887</td>\n",
       "      <td>41</td>\n",
       "      <td>1</td>\n",
       "      <td>0.010959</td>\n",
       "      <td>1</td>\n",
       "      <td>0.0</td>\n",
       "      <td>0.121949</td>\n",
       "      <td>1</td>\n",
       "      <td>1</td>\n",
       "      <td>0.0</td>\n",
       "      <td>1.0</td>\n",
       "      <td>0.0</td>\n",
       "      <td>0.0</td>\n",
       "      <td>1.0</td>\n",
       "      <td>0.0</td>\n",
       "      <td>0.0</td>\n",
       "    </tr>\n",
       "  </tbody>\n",
       "</table>\n",
       "</div>"
      ]
     },
     "metadata": {},
     "execution_count": 58
    }
   ],
   "metadata": {}
  },
  {
   "cell_type": "markdown",
   "source": [
    "## Now, lets collect the required data for training in a new DF"
   ],
   "metadata": {}
  },
  {
   "cell_type": "code",
   "execution_count": 59,
   "source": [
    "model_train_data = update_train_data.copy()\r\n",
    "model_test_data = update_test_data.copy()"
   ],
   "outputs": [],
   "metadata": {}
  },
  {
   "cell_type": "code",
   "execution_count": 60,
   "source": [
    "#model_train_data.to_csv(\"Cleaned_learnX_train.csv\")\r\n",
    "#model_test_data.to_csv(\"Cleaned_learnX_test.csv\")\r\n"
   ],
   "outputs": [],
   "metadata": {}
  },
  {
   "cell_type": "code",
   "execution_count": 181,
   "source": [
    "model_train_data[\"Short_Promotion\"] = model_train_data[\"Short_Promotion\"].astype('int64')\r\n",
    "model_train_data[\"Public_Holiday\"] = model_train_data[\"Public_Holiday\"].astype('int64')\r\n",
    "model_train_data[\"Long_Promotion\"] = model_train_data[\"Long_Promotion\"].astype('int64')\r\n",
    "model_train_data[\"Month\"] = model_train_data[\"Month\"].astype('int64')\r\n",
    "\r\n",
    "\r\n",
    "model_test_data[\"Short_Promotion\"] = model_test_data[\"Short_Promotion\"].astype('int64')\r\n",
    "model_test_data[\"Public_Holiday\"] = model_test_data[\"Public_Holiday\"].astype('int64')\r\n",
    "model_test_data[\"Long_Promotion\"] = model_test_data[\"Long_Promotion\"].astype('int64')\r\n",
    "model_test_data[\"Month\"] = model_test_data[\"Month\"].astype('int64')\r\n",
    "\r\n",
    "#Public_Holiday Competition_Metric Month"
   ],
   "outputs": [],
   "metadata": {}
  },
  {
   "cell_type": "code",
   "execution_count": 182,
   "source": [
    "X = model_train_data.drop('Sales', axis=1)\r\n",
    "y = model_train_data['Sales']"
   ],
   "outputs": [],
   "metadata": {}
  },
  {
   "cell_type": "code",
   "execution_count": 183,
   "source": [
    "X.shape, y.shape"
   ],
   "outputs": [
    {
     "output_type": "execute_result",
     "data": {
      "text/plain": [
       "((512087, 19), (512087,))"
      ]
     },
     "metadata": {},
     "execution_count": 183
    }
   ],
   "metadata": {}
  },
  {
   "cell_type": "code",
   "execution_count": 184,
   "source": [
    "#splitting data into test and train data\r\n",
    "from sklearn.model_selection import train_test_split\r\n",
    "\r\n",
    "train_X, test_X, train_y, test_y = train_test_split(X, y, random_state = 23)"
   ],
   "outputs": [],
   "metadata": {}
  },
  {
   "cell_type": "markdown",
   "source": [
    "## Model building and cross validation"
   ],
   "metadata": {}
  },
  {
   "cell_type": "code",
   "execution_count": 185,
   "source": [
    "# Here, we will import LinearRegressor instead of LogisticRegression that we imported for Classification problem\r\n",
    "\r\n",
    "from sklearn.linear_model import LinearRegression\r\n",
    "from sklearn.neighbors import KNeighborsRegressor\r\n",
    "from sklearn.tree import DecisionTreeRegressor"
   ],
   "outputs": [],
   "metadata": {}
  },
  {
   "cell_type": "code",
   "execution_count": 96,
   "source": [
    "# Linear Model\r\n",
    "model1 = LinearRegression()\r\n",
    "model1.fit(train_X, train_y)\r\n",
    "\r\n",
    "# KNN model\r\n",
    "\r\n",
    "model2 = KNeighborsRegressor(n_neighbors=9)\r\n",
    "model2.fit(train_X, train_y)\r\n",
    "\r\n",
    "# Decision Tree Model\r\n",
    "\r\n",
    "model3 = DecisionTreeRegressor(max_depth=5)\r\n",
    "model3.fit(train_X, train_y)\r\n"
   ],
   "outputs": [
    {
     "output_type": "execute_result",
     "data": {
      "text/plain": [
       "DecisionTreeRegressor(max_depth=5)"
      ]
     },
     "metadata": {},
     "execution_count": 96
    }
   ],
   "metadata": {}
  },
  {
   "cell_type": "code",
   "execution_count": 97,
   "source": [
    "model2a = KNeighborsRegressor(n_neighbors=13)\r\n",
    "model2a.fit(train_X, train_y)\r\n",
    "\r\n",
    "model2b = KNeighborsRegressor(n_neighbors=15)\r\n",
    "model2b.fit(train_X, train_y)\r\n",
    "\r\n",
    "model2c = KNeighborsRegressor(n_neighbors=17)\r\n",
    "model2c.fit(train_X, train_y)\r\n"
   ],
   "outputs": [
    {
     "output_type": "execute_result",
     "data": {
      "text/plain": [
       "KNeighborsRegressor(n_neighbors=17)"
      ]
     },
     "metadata": {},
     "execution_count": 97
    }
   ],
   "metadata": {}
  },
  {
   "cell_type": "code",
   "execution_count": 98,
   "source": [
    "model2d = KNeighborsRegressor(n_neighbors=7)\r\n",
    "model2d.fit(train_X, train_y)\r\n",
    "\r\n",
    "model2e = KNeighborsRegressor(n_neighbors=8)\r\n",
    "model2e.fit(train_X, train_y)\r\n"
   ],
   "outputs": [
    {
     "output_type": "execute_result",
     "data": {
      "text/plain": [
       "KNeighborsRegressor(n_neighbors=8)"
      ]
     },
     "metadata": {},
     "execution_count": 98
    }
   ],
   "metadata": {}
  },
  {
   "cell_type": "code",
   "execution_count": null,
   "source": [
    "pred2a_test = model2a.predict(test_X)\r\n",
    "pred2b_test = model2b.predict(test_X)\r\n",
    "pred2c_test = model2c.predict(test_X)\r\n"
   ],
   "outputs": [],
   "metadata": {}
  },
  {
   "cell_type": "code",
   "execution_count": null,
   "source": [
    "pred2d_test = model2d.predict(test_X)\r\n",
    "pred2e_test = model2e.predict(test_X)"
   ],
   "outputs": [],
   "metadata": {}
  },
  {
   "cell_type": "code",
   "execution_count": null,
   "source": [
    "mean_squared_log_error(pred2d_test, test_y)*1000, mean_squared_log_error(pred2e_test, test_y)*1000"
   ],
   "outputs": [
    {
     "output_type": "execute_result",
     "data": {
      "text/plain": [
       "(62.07321144528977, 61.665451176443476)"
      ]
     },
     "metadata": {},
     "execution_count": 485
    }
   ],
   "metadata": {}
  },
  {
   "cell_type": "code",
   "execution_count": null,
   "source": [
    "mean_squared_log_error(pred2a_test, test_y)*1000, mean_squared_log_error(pred2b_test, test_y)*1000, mean_squared_log_error(pred2c_test, test_y)*1000"
   ],
   "outputs": [
    {
     "output_type": "execute_result",
     "data": {
      "text/plain": [
       "(62.200567110507734, 62.79678357377536, 63.93687639406953)"
      ]
     },
     "metadata": {},
     "execution_count": 481
    }
   ],
   "metadata": {}
  },
  {
   "cell_type": "code",
   "execution_count": 186,
   "source": [
    "from sklearn.metrics import mean_squared_log_error"
   ],
   "outputs": [],
   "metadata": {}
  },
  {
   "cell_type": "code",
   "execution_count": null,
   "source": [
    "pred1 = model1.predict(train_X)\r\n",
    "pred2 = model2.predict(train_X)\r\n",
    "pred3 = model3.predict(train_X)"
   ],
   "outputs": [],
   "metadata": {}
  },
  {
   "cell_type": "code",
   "execution_count": null,
   "source": [
    "mean_squared_log_error(pred2, train_y)*1000"
   ],
   "outputs": [
    {
     "output_type": "execute_result",
     "data": {
      "text/plain": [
       "51.49533217330547"
      ]
     },
     "metadata": {},
     "execution_count": 466
    }
   ],
   "metadata": {}
  },
  {
   "cell_type": "code",
   "execution_count": null,
   "source": [
    "mean_squared_log_error(pred3, train_y)*1000"
   ],
   "outputs": [
    {
     "output_type": "execute_result",
     "data": {
      "text/plain": [
       "80.31852944226611"
      ]
     },
     "metadata": {},
     "execution_count": 467
    }
   ],
   "metadata": {}
  },
  {
   "cell_type": "code",
   "execution_count": null,
   "source": [
    "pred2_test = model2.predict(test_X)\r\n",
    "pred3_test = model3.predict(test_X)"
   ],
   "outputs": [],
   "metadata": {}
  },
  {
   "cell_type": "code",
   "execution_count": null,
   "source": [
    "mean_squared_log_error(pred2_test, test_y)*1000, mean_squared_log_error(pred3_test, test_y)*1000"
   ],
   "outputs": [
    {
     "output_type": "execute_result",
     "data": {
      "text/plain": [
       "(61.55880344119967, 80.02376917114506)"
      ]
     },
     "metadata": {},
     "execution_count": 469
    }
   ],
   "metadata": {}
  },
  {
   "cell_type": "markdown",
   "source": [
    "Elbow test for KNN"
   ],
   "metadata": {}
  },
  {
   "cell_type": "code",
   "execution_count": 473,
   "source": [
    "def Elbow(k):\r\n",
    "    test_error = []\r\n",
    "    \r\n",
    "    for i in k:\r\n",
    "        clf = KNeighborsRegressor(n_neighbors= i )\r\n",
    "        clf.fit(train_X, train_y)\r\n",
    "\r\n",
    "        predict = clf.predict(test_X)\r\n",
    "        score = mean_squared_log_error(predict, test_y)\r\n",
    "        error = 1-score\r\n",
    "        test_error.append(error)\r\n",
    "    \r\n",
    "    return test_error\r\n",
    "\r\n"
   ],
   "outputs": [],
   "metadata": {}
  },
  {
   "cell_type": "code",
   "execution_count": 474,
   "source": [
    "k = range(6,15, 2)"
   ],
   "outputs": [],
   "metadata": {}
  },
  {
   "cell_type": "code",
   "execution_count": 475,
   "source": [
    "elbow_list = Elbow(k)"
   ],
   "outputs": [],
   "metadata": {}
  },
  {
   "cell_type": "code",
   "execution_count": 476,
   "source": [
    "#now, we have the points (k) and the value of the points (elbow_list). Lets create a plot\r\n",
    "\r\n",
    "plt.plot(k, elbow_list)\r\n",
    "plt.xlabel(\"k neighbours\")\r\n",
    "plt.ylabel(\"error\")\r\n",
    "plt.title(\"Elbow Curve\")"
   ],
   "outputs": [
    {
     "output_type": "execute_result",
     "data": {
      "text/plain": [
       "Text(0.5, 1.0, 'Elbow Curve')"
      ]
     },
     "metadata": {},
     "execution_count": 476
    },
    {
     "output_type": "display_data",
     "data": {
      "text/plain": [
       "<Figure size 432x288 with 1 Axes>"
      ],
      "image/png": "[encoded data removed]"
     },
     "metadata": {
      "needs_background": "light"
     }
    }
   ],
   "metadata": {}
  },
  {
   "cell_type": "markdown",
   "source": [
    "## Building a Random Forest Model"
   ],
   "metadata": {}
  },
  {
   "cell_type": "code",
   "execution_count": 187,
   "source": [
    "#Importing random forest classifier \r\n",
    "from sklearn.ensemble import RandomForestRegressor"
   ],
   "outputs": [],
   "metadata": {}
  },
  {
   "cell_type": "code",
   "execution_count": 188,
   "source": [
    "#creating a random forest instance\r\n",
    "random_forest = RandomForestRegressor(random_state=96)"
   ],
   "outputs": [],
   "metadata": {}
  },
  {
   "cell_type": "code",
   "execution_count": 189,
   "source": [
    "#train the model\r\n",
    "random_forest.fit(train_X,train_y)"
   ],
   "outputs": [
    {
     "output_type": "execute_result",
     "data": {
      "text/plain": [
       "RandomForestRegressor(random_state=96)"
      ]
     },
     "metadata": {},
     "execution_count": 189
    }
   ],
   "metadata": {}
  },
  {
   "cell_type": "code",
   "execution_count": 107,
   "source": [
    "random_forest_test = random_forest.predict(test_X)\r\n"
   ],
   "outputs": [],
   "metadata": {}
  },
  {
   "cell_type": "code",
   "execution_count": 108,
   "source": [
    "mean_squared_log_error(random_forest_test, test_y)*1000"
   ],
   "outputs": [
    {
     "output_type": "execute_result",
     "data": {
      "text/plain": [
       "0.4857414005652197"
      ]
     },
     "metadata": {},
     "execution_count": 108
    }
   ],
   "metadata": {}
  },
  {
   "cell_type": "code",
   "execution_count": 536,
   "source": [
    "#feature importance against each variable\r\n",
    "feature_importance = pd.Series(random_forest.feature_importances_, index=train_X.columns)"
   ],
   "outputs": [],
   "metadata": {}
  },
  {
   "cell_type": "code",
   "execution_count": 540,
   "source": [
    "feature_importance = feature_importance.sort_values(ascending=False)\r\n",
    "feature_importance"
   ],
   "outputs": [
    {
     "output_type": "execute_result",
     "data": {
      "text/plain": [
       "Course_avg_sales                      0.569541\n",
       "Short_Promotion                       0.141521\n",
       "Day                                   0.141192\n",
       "WeekofYear                            0.036225\n",
       "Year                                  0.021792\n",
       "Competition_Metric                    0.018604\n",
       "Public_Holiday                        0.016902\n",
       "Course_ID                             0.016414\n",
       "Course_Sales_Type                     0.013893\n",
       "Month                                 0.006220\n",
       "Course_Domain_Development             0.003491\n",
       "Long_Promotion                        0.003418\n",
       "Course_Type_Program                   0.002363\n",
       "Course_Type_Course                    0.002331\n",
       "Course_Domain_Software Marketing      0.002247\n",
       "Course_Domain_Finance & Accounting    0.002235\n",
       "Course_Domain_Business                0.001429\n",
       "Course_Type_Degree                    0.000184\n",
       "dtype: float64"
      ]
     },
     "metadata": {},
     "execution_count": 540
    }
   ],
   "metadata": {}
  },
  {
   "cell_type": "markdown",
   "source": [
    "### Random forest with Feature Importance"
   ],
   "metadata": {}
  },
  {
   "cell_type": "code",
   "execution_count": 568,
   "source": [
    "fi_train_X = train_X.drop([\"Course_Domain_Development\", \"Course_Type_Program\", \"Course_Type_Course\", \"Course_Domain_Software Marketing\", \"Course_Domain_Finance & Accounting\", \"Course_Domain_Business\"], axis=1)\r\n",
    "fi_test_X = test_X.drop([\"Course_Domain_Development\", \"Course_Type_Program\", \"Course_Type_Course\", \"Course_Domain_Software Marketing\", \"Course_Domain_Finance & Accounting\", \"Course_Domain_Business\"], axis=1)"
   ],
   "outputs": [],
   "metadata": {}
  },
  {
   "cell_type": "code",
   "execution_count": 569,
   "source": [
    "fi_random_forest = RandomForestRegressor(random_state=96)\r\n",
    "fi_random_forest.fit(fi_train_X,train_y)\r\n"
   ],
   "outputs": [
    {
     "output_type": "execute_result",
     "data": {
      "text/plain": [
       "RandomForestRegressor(random_state=96)"
      ]
     },
     "metadata": {},
     "execution_count": 569
    }
   ],
   "metadata": {}
  },
  {
   "cell_type": "code",
   "execution_count": 570,
   "source": [
    "fi_random_forest_test = fi_random_forest.predict(fi_test_X)\r\n",
    "mean_squared_log_error(fi_random_forest_test, test_y)*1000"
   ],
   "outputs": [
    {
     "output_type": "execute_result",
     "data": {
      "text/plain": [
       "29.110612443771835"
      ]
     },
     "metadata": {},
     "execution_count": 570
    }
   ],
   "metadata": {}
  },
  {
   "cell_type": "markdown",
   "source": [
    "# Submission of Base Model"
   ],
   "metadata": {}
  },
  {
   "cell_type": "code",
   "execution_count": 190,
   "source": [
    "# KNN model\r\n",
    "\r\n",
    "model2 = KNeighborsRegressor(n_neighbors=9)\r\n",
    "model2.fit(train_X, train_y)\r\n"
   ],
   "outputs": [
    {
     "output_type": "execute_result",
     "data": {
      "text/plain": [
       "KNeighborsRegressor(n_neighbors=9)"
      ]
     },
     "metadata": {},
     "execution_count": 190
    }
   ],
   "metadata": {}
  },
  {
   "cell_type": "code",
   "execution_count": 503,
   "source": [
    "#model_test_data[\"Competition_Metric\"].replace(to_replace =np.nan, value =0, inplace=True)"
   ],
   "outputs": [],
   "metadata": {}
  },
  {
   "cell_type": "code",
   "execution_count": 490,
   "source": [
    "#model_test_data.drop(model_test_data[model_test_data.Competition_Metric.isnull()].index, axis=0, inplace=True)"
   ],
   "outputs": [],
   "metadata": {}
  },
  {
   "cell_type": "code",
   "execution_count": 191,
   "source": [
    "pred_submission1 = model2.predict(model_test_data)\r\n"
   ],
   "outputs": [],
   "metadata": {}
  },
  {
   "cell_type": "code",
   "execution_count": 506,
   "source": [
    "submission1 = pd.read_csv(\"sample_wxeb1X4.csv\")"
   ],
   "outputs": [],
   "metadata": {}
  },
  {
   "cell_type": "code",
   "execution_count": 507,
   "source": [
    "pred_submission1.shape"
   ],
   "outputs": [
    {
     "output_type": "execute_result",
     "data": {
      "text/plain": [
       "(36000,)"
      ]
     },
     "metadata": {},
     "execution_count": 507
    }
   ],
   "metadata": {}
  },
  {
   "cell_type": "code",
   "execution_count": 509,
   "source": [
    "submission1.Sales = pred_submission1"
   ],
   "outputs": [
    {
     "output_type": "execute_result",
     "data": {
      "text/plain": [
       "           ID       Sales\n",
       "0         883  109.111111\n",
       "1         884  109.111111\n",
       "2         885  108.444444\n",
       "3         886  106.555556\n",
       "4         887   73.111111\n",
       "...       ...         ...\n",
       "35995  548083  125.555556\n",
       "35996  548084  125.555556\n",
       "35997  548085  125.555556\n",
       "35998  548086  125.555556\n",
       "35999  548087  125.555556\n",
       "\n",
       "[36000 rows x 2 columns]"
      ],
      "text/html": [
       "<div>\n",
       "<style scoped>\n",
       "    .dataframe tbody tr th:only-of-type {\n",
       "        vertical-align: middle;\n",
       "    }\n",
       "\n",
       "    .dataframe tbody tr th {\n",
       "        vertical-align: top;\n",
       "    }\n",
       "\n",
       "    .dataframe thead th {\n",
       "        text-align: right;\n",
       "    }\n",
       "</style>\n",
       "<table border=\"1\" class=\"dataframe\">\n",
       "  <thead>\n",
       "    <tr style=\"text-align: right;\">\n",
       "      <th></th>\n",
       "      <th>ID</th>\n",
       "      <th>Sales</th>\n",
       "    </tr>\n",
       "  </thead>\n",
       "  <tbody>\n",
       "    <tr>\n",
       "      <th>0</th>\n",
       "      <td>883</td>\n",
       "      <td>109.111111</td>\n",
       "    </tr>\n",
       "    <tr>\n",
       "      <th>1</th>\n",
       "      <td>884</td>\n",
       "      <td>109.111111</td>\n",
       "    </tr>\n",
       "    <tr>\n",
       "      <th>2</th>\n",
       "      <td>885</td>\n",
       "      <td>108.444444</td>\n",
       "    </tr>\n",
       "    <tr>\n",
       "      <th>3</th>\n",
       "      <td>886</td>\n",
       "      <td>106.555556</td>\n",
       "    </tr>\n",
       "    <tr>\n",
       "      <th>4</th>\n",
       "      <td>887</td>\n",
       "      <td>73.111111</td>\n",
       "    </tr>\n",
       "    <tr>\n",
       "      <th>...</th>\n",
       "      <td>...</td>\n",
       "      <td>...</td>\n",
       "    </tr>\n",
       "    <tr>\n",
       "      <th>35995</th>\n",
       "      <td>548083</td>\n",
       "      <td>125.555556</td>\n",
       "    </tr>\n",
       "    <tr>\n",
       "      <th>35996</th>\n",
       "      <td>548084</td>\n",
       "      <td>125.555556</td>\n",
       "    </tr>\n",
       "    <tr>\n",
       "      <th>35997</th>\n",
       "      <td>548085</td>\n",
       "      <td>125.555556</td>\n",
       "    </tr>\n",
       "    <tr>\n",
       "      <th>35998</th>\n",
       "      <td>548086</td>\n",
       "      <td>125.555556</td>\n",
       "    </tr>\n",
       "    <tr>\n",
       "      <th>35999</th>\n",
       "      <td>548087</td>\n",
       "      <td>125.555556</td>\n",
       "    </tr>\n",
       "  </tbody>\n",
       "</table>\n",
       "<p>36000 rows × 2 columns</p>\n",
       "</div>"
      ]
     },
     "metadata": {},
     "execution_count": 509
    }
   ],
   "metadata": {}
  },
  {
   "cell_type": "code",
   "execution_count": 510,
   "source": [
    "pd.DataFrame(submission1, columns=['ID','Sales']).to_csv('submit1.csv')\r\n",
    "\r\n"
   ],
   "outputs": [],
   "metadata": {}
  },
  {
   "cell_type": "markdown",
   "source": [
    "## Submission 2"
   ],
   "metadata": {}
  },
  {
   "cell_type": "code",
   "execution_count": 192,
   "source": [
    "pred_submission2 = random_forest.predict(model_test_data)\r\n"
   ],
   "outputs": [],
   "metadata": {}
  },
  {
   "cell_type": "code",
   "execution_count": 517,
   "source": [
    "submission2 = pd.read_csv(\"sample_wxeb1X4.csv\")"
   ],
   "outputs": [],
   "metadata": {}
  },
  {
   "cell_type": "code",
   "execution_count": 519,
   "source": [
    "pred_submission2.shape"
   ],
   "outputs": [
    {
     "output_type": "execute_result",
     "data": {
      "text/plain": [
       "(36000,)"
      ]
     },
     "metadata": {},
     "execution_count": 519
    }
   ],
   "metadata": {}
  },
  {
   "cell_type": "code",
   "execution_count": 520,
   "source": [
    "submission2.Sales = pred_submission2"
   ],
   "outputs": [],
   "metadata": {}
  },
  {
   "cell_type": "code",
   "execution_count": 521,
   "source": [
    "pd.DataFrame(submission2, columns=['ID','Sales']).to_csv('submit2.csv')\r\n"
   ],
   "outputs": [],
   "metadata": {}
  },
  {
   "cell_type": "markdown",
   "source": [
    "# [BEST] Ensemble of Submission1 and Submission2 - Average"
   ],
   "metadata": {}
  },
  {
   "cell_type": "code",
   "execution_count": 193,
   "source": [
    "from statistics import mean\r\n",
    "ensemble_pred_1 = []\r\n",
    "\r\n",
    "for i in range (0, len(model_test_data)):\r\n",
    "    ensemble_pred_1 = np.append(ensemble_pred_1, mean([pred_submission1[i],  pred_submission2[i]]))"
   ],
   "outputs": [],
   "metadata": {}
  },
  {
   "cell_type": "code",
   "execution_count": 194,
   "source": [
    "submission3 = pd.read_csv(\"sample_wxeb1X4.csv\")"
   ],
   "outputs": [],
   "metadata": {}
  },
  {
   "cell_type": "code",
   "execution_count": 195,
   "source": [
    "submission3.Sales = ensemble_pred_1"
   ],
   "outputs": [],
   "metadata": {}
  },
  {
   "cell_type": "code",
   "execution_count": 196,
   "source": [
    "pd.DataFrame(submission3, columns=['ID','Sales']).to_csv('submit_final2.csv')\r\n"
   ],
   "outputs": [],
   "metadata": {}
  },
  {
   "cell_type": "markdown",
   "source": [
    "# [Ok OK model]Ensemble of Submission1 and Submission2 - Weighted Mean"
   ],
   "metadata": {}
  },
  {
   "cell_type": "code",
   "execution_count": 530,
   "source": [
    "from statistics import mean\r\n",
    "ensemble_pred_2 = []\r\n",
    "\r\n",
    "for i in range (0, len(model_test_data)):\r\n",
    "    ensemble_pred_2 = np.append(ensemble_pred_2, mean([pred_submission1[i],  pred_submission2[i], pred_submission2[i]]))"
   ],
   "outputs": [],
   "metadata": {}
  },
  {
   "cell_type": "code",
   "execution_count": 529,
   "source": [
    "submission4 = pd.read_csv(\"sample_wxeb1X4.csv\")"
   ],
   "outputs": [],
   "metadata": {}
  },
  {
   "cell_type": "code",
   "execution_count": 532,
   "source": [
    "submission4.Sales = ensemble_pred_2"
   ],
   "outputs": [],
   "metadata": {}
  },
  {
   "cell_type": "code",
   "execution_count": 533,
   "source": [
    "pd.DataFrame(submission4, columns=['ID','Sales']).to_csv('submit4.csv')\r\n"
   ],
   "outputs": [],
   "metadata": {}
  },
  {
   "cell_type": "markdown",
   "source": [
    "# [BAD] Ensemble of Submission1 and RandomForest after feature selection - Mean"
   ],
   "metadata": {}
  },
  {
   "cell_type": "code",
   "execution_count": 571,
   "source": [
    "from statistics import mean\r\n",
    "ensemble_pred_3 = []\r\n",
    "\r\n",
    "for i in range (0, len(model_test_data)):\r\n",
    "    ensemble_pred_3 = np.append(ensemble_pred_3, mean([pred_submission1[i],  fi_random_forest_test[i]]))"
   ],
   "outputs": [],
   "metadata": {}
  },
  {
   "cell_type": "code",
   "execution_count": 572,
   "source": [
    "submission5 = pd.read_csv(\"sample_wxeb1X4.csv\")"
   ],
   "outputs": [],
   "metadata": {}
  },
  {
   "cell_type": "code",
   "execution_count": 573,
   "source": [
    "submission5.Sales = ensemble_pred_3"
   ],
   "outputs": [],
   "metadata": {}
  },
  {
   "cell_type": "code",
   "execution_count": 574,
   "source": [
    "pd.DataFrame(submission5, columns=['ID','Sales']).to_csv('submit5.csv')\r\n"
   ],
   "outputs": [],
   "metadata": {}
  }
 ],
 "metadata": {
  "orig_nbformat": 4,
  "language_info": {
   "name": "python",
   "version": "3.8.2",
   "mimetype": "text/x-python",
   "codemirror_mode": {
    "name": "ipython",
    "version": 3
   },
   "pygments_lexer": "ipython3",
   "nbconvert_exporter": "python",
   "file_extension": ".py"
  },
  "kernelspec": {
   "name": "python3",
   "display_name": "Python 3.8.2 64-bit"
  },
  "interpreter": {
   "hash": "a9ed818579b1ba32d90b6b7b1ccc8e0ff75013e2740df16cc93d983c2f1c495e"
  }
 },
 "nbformat": 4,
 "nbformat_minor": 2
}